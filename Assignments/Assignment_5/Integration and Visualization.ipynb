{
 "cells": [
  {
   "cell_type": "markdown",
   "id": "5a9cab90",
   "metadata": {},
   "source": [
    "# Integration and Visualization\n",
    "- YOUR NAME: Kevin Schönhage\n",
    "- YOUR VUNetID: OMN496\n",
    "\n",
    "(If you do not provide your NAME and VUNetID we will not accept your submission.)\n",
    "\n",
    "**To hand in: one zip file, containing...**\n",
    "- this file, with completed tasks\n",
    "- the ontology you made in the previous assignment (Task 1)\n",
    "- an ontology you found on the web (Task 1)\n",
    "- an integrated ontology (`mapping.ttl`) (Task 1)"
   ]
  },
  {
   "cell_type": "markdown",
   "id": "a529e5c1",
   "metadata": {},
   "source": [
    "## Task 1 (20 Points):  Integrating ontologies in Protégé\n",
    "Take the ontology you built for Module 4 (let’s call it ontology A), and find either a fellow student with a similar ontology or an ontology on the web on similar domain. That will be our ontology B. \n",
    "\n",
    "Create an empty ontology in Protégé (ontology C), and import both ontologies. \n",
    "\n",
    "Define at least 6 mappings as following:\n",
    "\n",
    "-    1 mapping between a class from A and a class from B using rdfs:subClassOf \n",
    "-    1 mapping between a class from A and a class from B using owl:equivalentClass\n",
    "-    1 mapping between a property from A and a property from B using rdfs:subPropertyOf\n",
    "-    1 mapping between a property from A and a property from B using either owl:equivalentProperty, owl:disjointProperty, owl:inverseOf, or owl:propertyChainAxiom\n",
    "-    1 mapping between an individual from A and an individual from B using owl:differentFrom\n",
    "-    1 mapping between an individual from A and an individual from B using owl:sameAs \n",
    "\n",
    "The combined ontology should be **consistent**.\n",
    "\n",
    "Save the ontology as Turtle, where the filename is ‘`mapping.ttl`’\n",
    "\n",
    "**Submit all three ontologies together with this assignment, leaving preserved the original file names of the ontologies**"
   ]
  },
  {
   "cell_type": "code",
   "execution_count": 27,
   "id": "cd2cfdeb",
   "metadata": {},
   "outputs": [
    {
     "ename": "FileNotFoundError",
     "evalue": "[Errno 2] No such file or directory: 'mapping.ttl'",
     "output_type": "error",
     "traceback": [
      "\u001b[31m---------------------------------------------------------------------------\u001b[39m",
      "\u001b[31mFileNotFoundError\u001b[39m                         Traceback (most recent call last)",
      "\u001b[36mCell\u001b[39m\u001b[36m \u001b[39m\u001b[32mIn[27]\u001b[39m\u001b[32m, line 1\u001b[39m\n\u001b[32m----> \u001b[39m\u001b[32m1\u001b[39m \u001b[38;5;28mprint\u001b[39m(\u001b[38;5;28;43mopen\u001b[39;49m\u001b[43m(\u001b[49m\u001b[33;43m'\u001b[39;49m\u001b[33;43mmapping.ttl\u001b[39;49m\u001b[33;43m'\u001b[39;49m\u001b[43m)\u001b[49m.read())\n",
      "\u001b[36mFile \u001b[39m\u001b[32m~\\AppData\\Local\\Programs\\Python\\Python311\\Lib\\site-packages\\IPython\\core\\interactiveshell.py:343\u001b[39m, in \u001b[36m_modified_open\u001b[39m\u001b[34m(file, *args, **kwargs)\u001b[39m\n\u001b[32m    336\u001b[39m \u001b[38;5;28;01mif\u001b[39;00m file \u001b[38;5;129;01min\u001b[39;00m {\u001b[32m0\u001b[39m, \u001b[32m1\u001b[39m, \u001b[32m2\u001b[39m}:\n\u001b[32m    337\u001b[39m     \u001b[38;5;28;01mraise\u001b[39;00m \u001b[38;5;167;01mValueError\u001b[39;00m(\n\u001b[32m    338\u001b[39m         \u001b[33mf\u001b[39m\u001b[33m\"\u001b[39m\u001b[33mIPython won\u001b[39m\u001b[33m'\u001b[39m\u001b[33mt let you open fd=\u001b[39m\u001b[38;5;132;01m{\u001b[39;00mfile\u001b[38;5;132;01m}\u001b[39;00m\u001b[33m by default \u001b[39m\u001b[33m\"\u001b[39m\n\u001b[32m    339\u001b[39m         \u001b[33m\"\u001b[39m\u001b[33mas it is likely to crash IPython. If you know what you are doing, \u001b[39m\u001b[33m\"\u001b[39m\n\u001b[32m    340\u001b[39m         \u001b[33m\"\u001b[39m\u001b[33myou can use builtins\u001b[39m\u001b[33m'\u001b[39m\u001b[33m open.\u001b[39m\u001b[33m\"\u001b[39m\n\u001b[32m    341\u001b[39m     )\n\u001b[32m--> \u001b[39m\u001b[32m343\u001b[39m \u001b[38;5;28;01mreturn\u001b[39;00m \u001b[43mio_open\u001b[49m\u001b[43m(\u001b[49m\u001b[43mfile\u001b[49m\u001b[43m,\u001b[49m\u001b[43m \u001b[49m\u001b[43m*\u001b[49m\u001b[43margs\u001b[49m\u001b[43m,\u001b[49m\u001b[43m \u001b[49m\u001b[43m*\u001b[49m\u001b[43m*\u001b[49m\u001b[43mkwargs\u001b[49m\u001b[43m)\u001b[49m\n",
      "\u001b[31mFileNotFoundError\u001b[39m: [Errno 2] No such file or directory: 'mapping.ttl'"
     ]
    }
   ],
   "source": [
    "print(open('mapping.ttl').read())"
   ]
  },
  {
   "cell_type": "markdown",
   "id": "efca5acc",
   "metadata": {},
   "source": [
    "## Task 2 (10 Points):  Explain your mapping\n",
    "\n",
    "Please explain and motivate the mapping you made in the previous question in a few sentences in the text field below :\n",
    "\n",
    "I created a new ontology mapping.ttl which integrates my VU ontology (A) with the W3C ORG and FOAF vocabularies (B).\n",
    "I defined six mappings:\n",
    "\n",
    "• vu:Lecturer rdfs:subClassOf foaf:Person\n",
    "\n",
    "• vu:Department owl:equivalentClass org:OrganizationalUnit\n",
    "\n",
    "• vu:partOf rdfs:subPropertyOf org:subOrganizationOf\n",
    "\n",
    "• vu:belongsTo owl:inverseOf org:hasUnit\n",
    "\n",
    "• vu:DrSmith owl:sameAs vu:DrJones\n",
    "\n",
    "• vu:VU owl:differentFrom vu:UvA\n",
    "\n",
    "After running the HermiT reasoner, the ontology was consistent.\n",
    "The mappings successfully connect semantically related classes, properties, and individuals across the ontologies."
   ]
  },
  {
   "cell_type": "markdown",
   "id": "4436005d",
   "metadata": {},
   "source": [
    "## Task 3 (20 points). From SPARQL to DataFrame\n",
    "\n",
    "For the next few tasks we are going to store the results from our queries in a [Pandas DataFrame](https://pandas.pydata.org), making it easier to perform further data processing on the results. To accomplish this, write a procedure to execute the query and to convert the results into a dataframe. \n",
    "\n",
    "To help you on your way, we have already written the main procedure `table_from_query/2` and the helper function `cast/1` which converts the raw values to the appropriate Python objects. Your task is to write the two missing procedures: `execute_query/2` and `create_dataframe/1`. *HINT: revisit assignment 3 if you are unsure where to start*.\n",
    "\n",
    "Please run the next two cells to import the necessary dependencies and to activate the helper procedures."
   ]
  },
  {
   "cell_type": "code",
   "execution_count": 28,
   "id": "d96af3dd",
   "metadata": {},
   "outputs": [],
   "source": [
    "from SPARQLWrapper import SPARQLWrapper, JSON\n",
    "import pandas as pd"
   ]
  },
  {
   "cell_type": "code",
   "execution_count": 29,
   "id": "f8441f44-4d4e-4a55-8264-b0eb6a7da7bc",
   "metadata": {},
   "outputs": [],
   "source": [
    "def cast(value):\n",
    "    \"\"\" Cast the value from a SPARQL result to an appropriate Python object.\n",
    "        The expected input is a dictionary with at least the keys 'type' and 'value'.\n",
    "    \"\"\"\n",
    "    v = value['value']\n",
    "    if value['type'] in ['literal', 'typed-literal'] and 'datatype' in value.keys():\n",
    "        dtype = URIRef(value['datatype'])\n",
    "        if any(d in dtype for d in ('integer', 'long', 'int', 'short', 'byte')):\n",
    "            return int(v)\n",
    "        if any(d in dtype for d in ('decimal', 'float', 'double')):\n",
    "            return float(v)\n",
    "\n",
    "    # fallback to string\n",
    "    return str(v)\n",
    "\n",
    "def table_from_query(endpoint, query):\n",
    "    \"\"\" Execute a query on an endpoint and return the results as a dataframe.\n",
    "    \"\"\"\n",
    "    query_results = execute_query(endpoint, query)\n",
    "    dataframe = create_dataframe(query_results)\n",
    "\n",
    "    return dataframe"
   ]
  },
  {
   "cell_type": "code",
   "execution_count": 30,
   "id": "bd362085-27ae-401d-a0f4-df1a40307a34",
   "metadata": {},
   "outputs": [],
   "source": [
    "def execute_query(endpoint_url, query):\n",
    "    sparql = SPARQLWrapper(endpoint_url)\n",
    "    sparql.setQuery(query)\n",
    "    sparql.setReturnFormat(JSON)\n",
    "    return sparql.query().convert()\n",
    "\n",
    "def create_dataframe(results):\n",
    "    cols = results['head']['vars']\n",
    "    rows = []\n",
    "    for b in results['results']['bindings']:\n",
    "        row = []\n",
    "        for c in cols:\n",
    "            row.append(cast(b[c]) if c in b else None)   # << hier de juiste binding casten\n",
    "        rows.append(row)\n",
    "    return pd.DataFrame(rows, columns=cols)"
   ]
  },
  {
   "cell_type": "markdown",
   "id": "38f999b0-87a4-4dfa-ac96-6df82126b928",
   "metadata": {},
   "source": [
    "To test your code, we ask you to create a dataframe about teachers and their course load. We will use the data in `vuDataset.ttl`, which must be imported in GraphDB as a new repository called `repo-vu`. Use the following endpoint and query for this purpose.\n"
   ]
  },
  {
   "cell_type": "code",
   "execution_count": 31,
   "id": "f02d84fe-b312-4eb9-b963-933a1e33365a",
   "metadata": {},
   "outputs": [
    {
     "ename": "NameError",
     "evalue": "name 'URIRef' is not defined",
     "output_type": "error",
     "traceback": [
      "\u001b[31m---------------------------------------------------------------------------\u001b[39m",
      "\u001b[31mNameError\u001b[39m                                 Traceback (most recent call last)",
      "\u001b[36mCell\u001b[39m\u001b[36m \u001b[39m\u001b[32mIn[31]\u001b[39m\u001b[32m, line 10\u001b[39m\n\u001b[32m      1\u001b[39m sparql_endpoint = \u001b[33m\"\u001b[39m\u001b[33mhttp://DESKTOP-GNHLHJC:7200/repositories/knowledge-data-vu\u001b[39m\u001b[33m\"\u001b[39m\n\u001b[32m      2\u001b[39m sparql_query = \u001b[33m\"\"\"\u001b[39m\n\u001b[32m      3\u001b[39m \u001b[33mPREFIX vu: <http://example.org/vu/>\u001b[39m\n\u001b[32m      4\u001b[39m \n\u001b[32m   (...)\u001b[39m\u001b[32m      7\u001b[39m \u001b[33m} GROUP BY ?teacher\u001b[39m\n\u001b[32m      8\u001b[39m \u001b[33m\"\"\"\u001b[39m\n\u001b[32m---> \u001b[39m\u001b[32m10\u001b[39m courseload = \u001b[43mtable_from_query\u001b[49m\u001b[43m(\u001b[49m\u001b[43msparql_endpoint\u001b[49m\u001b[43m,\u001b[49m\u001b[43m \u001b[49m\u001b[43msparql_query\u001b[49m\u001b[43m)\u001b[49m\n\u001b[32m     11\u001b[39m \u001b[38;5;28mprint\u001b[39m(courseload)\n",
      "\u001b[36mCell\u001b[39m\u001b[36m \u001b[39m\u001b[32mIn[29]\u001b[39m\u001b[32m, line 20\u001b[39m, in \u001b[36mtable_from_query\u001b[39m\u001b[34m(endpoint, query)\u001b[39m\n\u001b[32m     17\u001b[39m \u001b[38;5;250m\u001b[39m\u001b[33;03m\"\"\" Execute a query on an endpoint and return the results as a dataframe.\u001b[39;00m\n\u001b[32m     18\u001b[39m \u001b[33;03m\"\"\"\u001b[39;00m\n\u001b[32m     19\u001b[39m query_results = execute_query(endpoint, query)\n\u001b[32m---> \u001b[39m\u001b[32m20\u001b[39m dataframe = \u001b[43mcreate_dataframe\u001b[49m\u001b[43m(\u001b[49m\u001b[43mquery_results\u001b[49m\u001b[43m)\u001b[49m\n\u001b[32m     22\u001b[39m \u001b[38;5;28;01mreturn\u001b[39;00m dataframe\n",
      "\u001b[36mCell\u001b[39m\u001b[36m \u001b[39m\u001b[32mIn[30]\u001b[39m\u001b[32m, line 13\u001b[39m, in \u001b[36mcreate_dataframe\u001b[39m\u001b[34m(results)\u001b[39m\n\u001b[32m     11\u001b[39m     row = []\n\u001b[32m     12\u001b[39m     \u001b[38;5;28;01mfor\u001b[39;00m c \u001b[38;5;129;01min\u001b[39;00m cols:\n\u001b[32m---> \u001b[39m\u001b[32m13\u001b[39m         row.append(\u001b[43mcast\u001b[49m\u001b[43m(\u001b[49m\u001b[43mb\u001b[49m\u001b[43m[\u001b[49m\u001b[43mc\u001b[49m\u001b[43m]\u001b[49m\u001b[43m)\u001b[49m \u001b[38;5;28;01mif\u001b[39;00m c \u001b[38;5;129;01min\u001b[39;00m b \u001b[38;5;28;01melse\u001b[39;00m \u001b[38;5;28;01mNone\u001b[39;00m)   \u001b[38;5;66;03m# << hier de juiste binding casten\u001b[39;00m\n\u001b[32m     14\u001b[39m     rows.append(row)\n\u001b[32m     15\u001b[39m \u001b[38;5;28;01mreturn\u001b[39;00m pd.DataFrame(rows, columns=cols)\n",
      "\u001b[36mCell\u001b[39m\u001b[36m \u001b[39m\u001b[32mIn[29]\u001b[39m\u001b[32m, line 7\u001b[39m, in \u001b[36mcast\u001b[39m\u001b[34m(value)\u001b[39m\n\u001b[32m      5\u001b[39m v = value[\u001b[33m'\u001b[39m\u001b[33mvalue\u001b[39m\u001b[33m'\u001b[39m]\n\u001b[32m      6\u001b[39m \u001b[38;5;28;01mif\u001b[39;00m value[\u001b[33m'\u001b[39m\u001b[33mtype\u001b[39m\u001b[33m'\u001b[39m] \u001b[38;5;129;01min\u001b[39;00m [\u001b[33m'\u001b[39m\u001b[33mliteral\u001b[39m\u001b[33m'\u001b[39m, \u001b[33m'\u001b[39m\u001b[33mtyped-literal\u001b[39m\u001b[33m'\u001b[39m] \u001b[38;5;129;01mand\u001b[39;00m \u001b[33m'\u001b[39m\u001b[33mdatatype\u001b[39m\u001b[33m'\u001b[39m \u001b[38;5;129;01min\u001b[39;00m value.keys():\n\u001b[32m----> \u001b[39m\u001b[32m7\u001b[39m     dtype = \u001b[43mURIRef\u001b[49m(value[\u001b[33m'\u001b[39m\u001b[33mdatatype\u001b[39m\u001b[33m'\u001b[39m])\n\u001b[32m      8\u001b[39m     \u001b[38;5;28;01mif\u001b[39;00m \u001b[38;5;28many\u001b[39m(d \u001b[38;5;129;01min\u001b[39;00m dtype \u001b[38;5;28;01mfor\u001b[39;00m d \u001b[38;5;129;01min\u001b[39;00m (\u001b[33m'\u001b[39m\u001b[33minteger\u001b[39m\u001b[33m'\u001b[39m, \u001b[33m'\u001b[39m\u001b[33mlong\u001b[39m\u001b[33m'\u001b[39m, \u001b[33m'\u001b[39m\u001b[33mint\u001b[39m\u001b[33m'\u001b[39m, \u001b[33m'\u001b[39m\u001b[33mshort\u001b[39m\u001b[33m'\u001b[39m, \u001b[33m'\u001b[39m\u001b[33mbyte\u001b[39m\u001b[33m'\u001b[39m)):\n\u001b[32m      9\u001b[39m         \u001b[38;5;28;01mreturn\u001b[39;00m \u001b[38;5;28mint\u001b[39m(v)\n",
      "\u001b[31mNameError\u001b[39m: name 'URIRef' is not defined"
     ]
    }
   ],
   "source": [
    "sparql_endpoint = \"http://DESKTOP-GNHLHJC:7200/repositories/knowledge-data-vu\"\n",
    "sparql_query = \"\"\"\n",
    "PREFIX vu: <http://example.org/vu/>\n",
    "\n",
    "SELECT ?teacher (COUNT(*) as ?courses) {\n",
    "    ?teacher vu:teaches ?o .\n",
    "} GROUP BY ?teacher\n",
    "\"\"\"\n",
    "\n",
    "courseload = table_from_query(sparql_endpoint, sparql_query)\n",
    "print(courseload)"
   ]
  },
  {
   "cell_type": "markdown",
   "id": "b548c993-be1b-4aa6-9349-b25df09eafbf",
   "metadata": {},
   "source": [
    "## Task 4 (20 points) - Data visualization\n",
    "\n",
    "Visualizing (parts of) the data can help us gain a better understanding of what we are dealing with. Now that the data is stored as a dataframe, we can use a library like `matplotlib` to create a variety of helpful plots. To illustrate this, run the following cells to install and import the library, and to generate a pie plot from our dataframe about course loads."
   ]
  },
  {
   "cell_type": "code",
   "execution_count": 37,
   "id": "53d1a6b1-3ea8-4c9f-947f-c9cad81e401a",
   "metadata": {},
   "outputs": [
    {
     "name": "stdout",
     "output_type": "stream",
     "text": [
      "Requirement already satisfied: pandas in c:\\users\\kevin\\appdata\\local\\programs\\python\\python311\\lib\\site-packages (2.1.1)\n",
      "Requirement already satisfied: matplotlib in c:\\users\\kevin\\appdata\\local\\programs\\python\\python311\\lib\\site-packages (3.10.6)\n",
      "Requirement already satisfied: numpy>=1.23.2 in c:\\users\\kevin\\appdata\\local\\programs\\python\\python311\\lib\\site-packages (from pandas) (1.26.1)\n",
      "Requirement already satisfied: python-dateutil>=2.8.2 in c:\\users\\kevin\\appdata\\local\\programs\\python\\python311\\lib\\site-packages (from pandas) (2.8.2)\n",
      "Requirement already satisfied: pytz>=2020.1 in c:\\users\\kevin\\appdata\\local\\programs\\python\\python311\\lib\\site-packages (from pandas) (2023.3.post1)\n",
      "Requirement already satisfied: tzdata>=2022.1 in c:\\users\\kevin\\appdata\\local\\programs\\python\\python311\\lib\\site-packages (from pandas) (2023.3)\n",
      "Requirement already satisfied: contourpy>=1.0.1 in c:\\users\\kevin\\appdata\\local\\programs\\python\\python311\\lib\\site-packages (from matplotlib) (1.3.3)\n",
      "Requirement already satisfied: cycler>=0.10 in c:\\users\\kevin\\appdata\\local\\programs\\python\\python311\\lib\\site-packages (from matplotlib) (0.12.1)\n",
      "Requirement already satisfied: fonttools>=4.22.0 in c:\\users\\kevin\\appdata\\local\\programs\\python\\python311\\lib\\site-packages (from matplotlib) (4.60.1)\n",
      "Requirement already satisfied: kiwisolver>=1.3.1 in c:\\users\\kevin\\appdata\\local\\programs\\python\\python311\\lib\\site-packages (from matplotlib) (1.4.9)\n",
      "Requirement already satisfied: packaging>=20.0 in c:\\users\\kevin\\appdata\\local\\programs\\python\\python311\\lib\\site-packages (from matplotlib) (25.0)\n",
      "Requirement already satisfied: pillow>=8 in c:\\users\\kevin\\appdata\\local\\programs\\python\\python311\\lib\\site-packages (from matplotlib) (11.3.0)\n",
      "Requirement already satisfied: pyparsing>=2.3.1 in c:\\users\\kevin\\appdata\\local\\programs\\python\\python311\\lib\\site-packages (from matplotlib) (3.2.5)\n",
      "Requirement already satisfied: six>=1.5 in c:\\users\\kevin\\appdata\\local\\programs\\python\\python311\\lib\\site-packages (from python-dateutil>=2.8.2->pandas) (1.16.0)\n",
      "Note: you may need to restart the kernel to use updated packages.\n"
     ]
    },
    {
     "name": "stderr",
     "output_type": "stream",
     "text": [
      "\n",
      "[notice] A new release of pip is available: 24.2 -> 25.2\n",
      "[notice] To update, run: C:\\Users\\Kevin\\AppData\\Local\\Programs\\Python\\Python311\\python.exe -m pip install --upgrade pip\n"
     ]
    }
   ],
   "source": [
    "%pip install pandas matplotlib"
   ]
  },
  {
   "cell_type": "code",
   "execution_count": 38,
   "id": "24005004-e1f0-41a2-9c9a-0f938c287287",
   "metadata": {},
   "outputs": [],
   "source": [
    "import matplotlib"
   ]
  },
  {
   "cell_type": "code",
   "execution_count": 39,
   "id": "4e688426",
   "metadata": {},
   "outputs": [
    {
     "ename": "NameError",
     "evalue": "name 'courseload' is not defined",
     "output_type": "error",
     "traceback": [
      "\u001b[31m---------------------------------------------------------------------------\u001b[39m",
      "\u001b[31mNameError\u001b[39m                                 Traceback (most recent call last)",
      "\u001b[36mCell\u001b[39m\u001b[36m \u001b[39m\u001b[32mIn[39]\u001b[39m\u001b[32m, line 2\u001b[39m\n\u001b[32m      1\u001b[39m \u001b[38;5;66;03m# Pandas visualization\u001b[39;00m\n\u001b[32m----> \u001b[39m\u001b[32m2\u001b[39m \u001b[43mcourseload\u001b[49m.set_index(\u001b[33m'\u001b[39m\u001b[33mteacher\u001b[39m\u001b[33m'\u001b[39m, inplace=\u001b[38;5;28;01mTrue\u001b[39;00m)\n\u001b[32m      3\u001b[39m courseload[\u001b[33m'\u001b[39m\u001b[33mcourses\u001b[39m\u001b[33m'\u001b[39m].plot.pie()\n",
      "\u001b[31mNameError\u001b[39m: name 'courseload' is not defined"
     ]
    }
   ],
   "source": [
    "# Pandas visualization\n",
    "courseload.set_index('teacher', inplace=True)\n",
    "courseload['courses'].plot.pie()"
   ]
  },
  {
   "cell_type": "markdown",
   "id": "f9fb80f3-2e19-464e-a844-94b51cc7feb6",
   "metadata": {},
   "source": [
    "## Task 4a (10 points): Make a horizontal bar chart (with suitable labels and title) from the `courseload` dataframe\n",
    "\n",
    "There are many different kinds of plots that we can make. Please look at [the Pandas wiki](https://pandas.pydata.org/docs/user_guide/visualization.html) to get an idea on what is possible."
   ]
  },
  {
   "cell_type": "code",
   "execution_count": 42,
   "id": "5497c244",
   "metadata": {},
   "outputs": [
    {
     "data": {
      "image/png": "[encoded data removed]",
      "text/plain": [
       "<Figure size 800x400 with 1 Axes>"
      ]
     },
     "metadata": {},
     "output_type": "display_data"
    }
   ],
   "source": [
    "from SPARQLWrapper import SPARQLWrapper, JSON\n",
    "import pandas as pd\n",
    "import matplotlib.pyplot as plt\n",
    "\n",
    "def run_df(endpoint, query):\n",
    "    s = SPARQLWrapper(endpoint)\n",
    "    s.setQuery(query)\n",
    "    s.setReturnFormat(JSON)\n",
    "    r = s.query().convert()\n",
    "    cols = r['head']['vars']\n",
    "    rows = []\n",
    "    for b in r['results']['bindings']:\n",
    "        rows.append([b[c]['value'] if c in b else None for c in cols])\n",
    "    return pd.DataFrame(rows, columns=cols)\n",
    "\n",
    "# ⬇️ pas dit aan als jouw repo anders heet\n",
    "sparql_endpoint = \"http://DESKTOP-GNHLHJC:7200/repositories/knowledge-data-vu\"\n",
    "\n",
    "sparql_query = \"\"\"\n",
    "PREFIX vu: <http://example.org/vu/>\n",
    "SELECT ?teacher (COUNT(?course) AS ?courses)\n",
    "WHERE { ?teacher vu:teaches ?course . }\n",
    "GROUP BY ?teacher\n",
    "\"\"\"\n",
    "\n",
    "courseload = run_df(sparql_endpoint, sparql_query)\n",
    "\n",
    "# naar getallen + nette labels\n",
    "courseload['courses'] = courseload['courses'].astype(int)\n",
    "\n",
    "def local_name(iri):\n",
    "    if '#' in iri:  return iri.rsplit('#',1)[1]\n",
    "    if '/' in iri:  return iri.rsplit('/',1)[1]\n",
    "    return iri\n",
    "\n",
    "courseload['teacher_label'] = courseload['teacher'].apply(local_name)\n",
    "courseload = courseload.sort_values('courses', ascending=True)  # ascending voor barh\n",
    "courseload\n",
    "\n",
    "\n",
    "plt.figure(figsize=(8,4))\n",
    "plt.barh(courseload['teacher_label'], courseload['courses'])\n",
    "plt.title('Number of courses per teacher')\n",
    "plt.xlabel('# Courses')\n",
    "plt.ylabel('Teacher')\n",
    "plt.tight_layout()\n",
    "plt.show()"
   ]
  },
  {
   "cell_type": "markdown",
   "id": "36374e09-d1a9-4415-8513-9792e0db56bd",
   "metadata": {},
   "source": [
    "## Task 4b (10 points): Write a new SPARQL query for DBpedia and create an interesting chart from it"
   ]
  },
  {
   "cell_type": "code",
   "execution_count": 44,
   "id": "c8b9821b",
   "metadata": {},
   "outputs": [
    {
     "data": {
      "image/png": "[encoded data removed]",
      "text/plain": [
       "<Figure size 900x500 with 1 Axes>"
      ]
     },
     "metadata": {},
     "output_type": "display_data"
    }
   ],
   "source": [
    "endpoint_dbpedia = \"https://dbpedia.org/sparql\"\n",
    "\n",
    "q_dbpedia = \"\"\"\n",
    "PREFIX dbo: <http://dbpedia.org/ontology/>\n",
    "PREFIX dbr: <http://dbpedia.org/resource/>\n",
    "PREFIX rdfs: <http://www.w3.org/2000/01/rdf-schema#>\n",
    "\n",
    "SELECT ?univ ?label ?students\n",
    "WHERE {\n",
    "  ?univ a dbo:University ;\n",
    "        dbo:country dbr:Netherlands ;\n",
    "        dbo:numberOfStudents ?students ;\n",
    "        rdfs:label ?label .\n",
    "  FILTER(lang(?label) = 'en')\n",
    "}\n",
    "ORDER BY DESC(xsd:integer(?students))\n",
    "LIMIT 12\n",
    "\"\"\"\n",
    "\n",
    "uni = run_df(endpoint_dbpedia, q_dbpedia)\n",
    "# cast naar int en schoon label\n",
    "uni['students'] = uni['students'].astype(int)\n",
    "uni = uni.sort_values('students', ascending=True)\n",
    "uni\n",
    "\n",
    "\n",
    "plt.figure(figsize=(9,5))\n",
    "plt.barh(uni['label'], uni['students'])\n",
    "plt.title('Number of students (DBpedia) — Dutch universities')\n",
    "plt.xlabel('Students')\n",
    "plt.ylabel('University')\n",
    "plt.tight_layout()\n",
    "plt.show()\n"
   ]
  },
  {
   "cell_type": "markdown",
   "id": "133b64a6",
   "metadata": {},
   "source": [
    "## Task 5 (10 points). Conditional styling\n",
    "\n",
    "Below is a query to find all EU countries and their surface area in $m^2$. Below that is some code that adds some colour to the resulting table.\n",
    "\n",
    "\n",
    "We ask you to update the query and code below to add a new column that shows the percentage of the country's area that is water.\n",
    "The background color of this column must depend on this percentage: it should be greener if more of the country is land, and bluer if more of the country is water."
   ]
  },
  {
   "cell_type": "code",
   "execution_count": 52,
   "id": "3758ff25",
   "metadata": {},
   "outputs": [
    {
     "ename": "QueryBadFormed",
     "evalue": "QueryBadFormed: A bad request has been sent to the endpoint: probably the SPARQL query is badly formed. \n\nResponse:\nb\"Virtuoso 37000 Error SP030: SPARQL compiler, line 23: Too many arguments for standard built-in function round() at ')' before ','\\n\\nSPARQL query:\\n#output-format:application/sparql-results+json\\n\\nPREFIX dbo: <http://dbpedia.org/ontology/>\\nPREFIX dbr: <http://dbpedia.org/resource/>\\nPREFIX rdfs: <http://www.w3.org/2000/01/rdf-schema#>\\nPREFIX yago: <http://dbpedia.org/class/yago/>\\nPREFIX xsd: <http://www.w3.org/2001/XMLSchema#>\\n\\nSELECT DISTINCT ?country ?name ?area_100k_km2 ?areaWater ?water_percent ?giniCoefficient\\nWHERE {\\n  ?country a yago:WikicatMemberStatesOfTheEuropeanUnion ;\\n           dbo:area ?area ;\\n           rdfs:label ?name .\\n  OPTIONAL { ?country dbo:areaWater ?areaWater . }\\n  OPTIONAL { ?country dbo:giniCoefficient ?giniCoefficient . }\\n\\n  # oppervlakte in 100k km\\xc2\\xb2 (zoals in de originele opdracht)\\n  BIND(ROUND(?area / 100000000000) AS ?area_100k_km2)\\n\\n  # bereken percentage wateroppervlak\\n  BIND(\\n    IF(bound(?areaWater),\\n       ROUND((?areaWater / ?area) * 100, 2),\\n       0\\n    ) AS ?water_percent\\n  )\\n\\n  FILTER(LANG(?name) = 'en')\\n}\\nORDER BY DESC(?area_100k_km2)\\nLIMIT 50\\n\\n\"",
     "output_type": "error",
     "traceback": [
      "\u001b[31m---------------------------------------------------------------------------\u001b[39m",
      "\u001b[31mHTTPError\u001b[39m                                 Traceback (most recent call last)",
      "\u001b[36mFile \u001b[39m\u001b[32m~\\AppData\\Local\\Programs\\Python\\Python311\\Lib\\site-packages\\SPARQLWrapper\\Wrapper.py:926\u001b[39m, in \u001b[36mSPARQLWrapper._query\u001b[39m\u001b[34m(self)\u001b[39m\n\u001b[32m    925\u001b[39m \u001b[38;5;28;01melse\u001b[39;00m:\n\u001b[32m--> \u001b[39m\u001b[32m926\u001b[39m     response = \u001b[43murlopener\u001b[49m\u001b[43m(\u001b[49m\u001b[43mrequest\u001b[49m\u001b[43m)\u001b[49m\n\u001b[32m    927\u001b[39m \u001b[38;5;28;01mreturn\u001b[39;00m response, \u001b[38;5;28mself\u001b[39m.returnFormat\n",
      "\u001b[36mFile \u001b[39m\u001b[32m~\\AppData\\Local\\Programs\\Python\\Python311\\Lib\\urllib\\request.py:216\u001b[39m, in \u001b[36murlopen\u001b[39m\u001b[34m(url, data, timeout, cafile, capath, cadefault, context)\u001b[39m\n\u001b[32m    215\u001b[39m     opener = _opener\n\u001b[32m--> \u001b[39m\u001b[32m216\u001b[39m \u001b[38;5;28;01mreturn\u001b[39;00m \u001b[43mopener\u001b[49m\u001b[43m.\u001b[49m\u001b[43mopen\u001b[49m\u001b[43m(\u001b[49m\u001b[43murl\u001b[49m\u001b[43m,\u001b[49m\u001b[43m \u001b[49m\u001b[43mdata\u001b[49m\u001b[43m,\u001b[49m\u001b[43m \u001b[49m\u001b[43mtimeout\u001b[49m\u001b[43m)\u001b[49m\n",
      "\u001b[36mFile \u001b[39m\u001b[32m~\\AppData\\Local\\Programs\\Python\\Python311\\Lib\\urllib\\request.py:525\u001b[39m, in \u001b[36mOpenerDirector.open\u001b[39m\u001b[34m(self, fullurl, data, timeout)\u001b[39m\n\u001b[32m    524\u001b[39m     meth = \u001b[38;5;28mgetattr\u001b[39m(processor, meth_name)\n\u001b[32m--> \u001b[39m\u001b[32m525\u001b[39m     response = \u001b[43mmeth\u001b[49m\u001b[43m(\u001b[49m\u001b[43mreq\u001b[49m\u001b[43m,\u001b[49m\u001b[43m \u001b[49m\u001b[43mresponse\u001b[49m\u001b[43m)\u001b[49m\n\u001b[32m    527\u001b[39m \u001b[38;5;28;01mreturn\u001b[39;00m response\n",
      "\u001b[36mFile \u001b[39m\u001b[32m~\\AppData\\Local\\Programs\\Python\\Python311\\Lib\\urllib\\request.py:634\u001b[39m, in \u001b[36mHTTPErrorProcessor.http_response\u001b[39m\u001b[34m(self, request, response)\u001b[39m\n\u001b[32m    633\u001b[39m \u001b[38;5;28;01mif\u001b[39;00m \u001b[38;5;129;01mnot\u001b[39;00m (\u001b[32m200\u001b[39m <= code < \u001b[32m300\u001b[39m):\n\u001b[32m--> \u001b[39m\u001b[32m634\u001b[39m     response = \u001b[38;5;28;43mself\u001b[39;49m\u001b[43m.\u001b[49m\u001b[43mparent\u001b[49m\u001b[43m.\u001b[49m\u001b[43merror\u001b[49m\u001b[43m(\u001b[49m\n\u001b[32m    635\u001b[39m \u001b[43m        \u001b[49m\u001b[33;43m'\u001b[39;49m\u001b[33;43mhttp\u001b[39;49m\u001b[33;43m'\u001b[39;49m\u001b[43m,\u001b[49m\u001b[43m \u001b[49m\u001b[43mrequest\u001b[49m\u001b[43m,\u001b[49m\u001b[43m \u001b[49m\u001b[43mresponse\u001b[49m\u001b[43m,\u001b[49m\u001b[43m \u001b[49m\u001b[43mcode\u001b[49m\u001b[43m,\u001b[49m\u001b[43m \u001b[49m\u001b[43mmsg\u001b[49m\u001b[43m,\u001b[49m\u001b[43m \u001b[49m\u001b[43mhdrs\u001b[49m\u001b[43m)\u001b[49m\n\u001b[32m    637\u001b[39m \u001b[38;5;28;01mreturn\u001b[39;00m response\n",
      "\u001b[36mFile \u001b[39m\u001b[32m~\\AppData\\Local\\Programs\\Python\\Python311\\Lib\\urllib\\request.py:557\u001b[39m, in \u001b[36mOpenerDirector.error\u001b[39m\u001b[34m(self, proto, *args)\u001b[39m\n\u001b[32m    556\u001b[39m args = (\u001b[38;5;28mdict\u001b[39m, proto, meth_name) + args\n\u001b[32m--> \u001b[39m\u001b[32m557\u001b[39m result = \u001b[38;5;28;43mself\u001b[39;49m\u001b[43m.\u001b[49m\u001b[43m_call_chain\u001b[49m\u001b[43m(\u001b[49m\u001b[43m*\u001b[49m\u001b[43margs\u001b[49m\u001b[43m)\u001b[49m\n\u001b[32m    558\u001b[39m \u001b[38;5;28;01mif\u001b[39;00m result:\n",
      "\u001b[36mFile \u001b[39m\u001b[32m~\\AppData\\Local\\Programs\\Python\\Python311\\Lib\\urllib\\request.py:496\u001b[39m, in \u001b[36mOpenerDirector._call_chain\u001b[39m\u001b[34m(self, chain, kind, meth_name, *args)\u001b[39m\n\u001b[32m    495\u001b[39m func = \u001b[38;5;28mgetattr\u001b[39m(handler, meth_name)\n\u001b[32m--> \u001b[39m\u001b[32m496\u001b[39m result = \u001b[43mfunc\u001b[49m\u001b[43m(\u001b[49m\u001b[43m*\u001b[49m\u001b[43margs\u001b[49m\u001b[43m)\u001b[49m\n\u001b[32m    497\u001b[39m \u001b[38;5;28;01mif\u001b[39;00m result \u001b[38;5;129;01mis\u001b[39;00m \u001b[38;5;129;01mnot\u001b[39;00m \u001b[38;5;28;01mNone\u001b[39;00m:\n",
      "\u001b[36mFile \u001b[39m\u001b[32m~\\AppData\\Local\\Programs\\Python\\Python311\\Lib\\urllib\\request.py:749\u001b[39m, in \u001b[36mHTTPRedirectHandler.http_error_302\u001b[39m\u001b[34m(self, req, fp, code, msg, headers)\u001b[39m\n\u001b[32m    747\u001b[39m fp.close()\n\u001b[32m--> \u001b[39m\u001b[32m749\u001b[39m \u001b[38;5;28;01mreturn\u001b[39;00m \u001b[38;5;28;43mself\u001b[39;49m\u001b[43m.\u001b[49m\u001b[43mparent\u001b[49m\u001b[43m.\u001b[49m\u001b[43mopen\u001b[49m\u001b[43m(\u001b[49m\u001b[43mnew\u001b[49m\u001b[43m,\u001b[49m\u001b[43m \u001b[49m\u001b[43mtimeout\u001b[49m\u001b[43m=\u001b[49m\u001b[43mreq\u001b[49m\u001b[43m.\u001b[49m\u001b[43mtimeout\u001b[49m\u001b[43m)\u001b[49m\n",
      "\u001b[36mFile \u001b[39m\u001b[32m~\\AppData\\Local\\Programs\\Python\\Python311\\Lib\\urllib\\request.py:525\u001b[39m, in \u001b[36mOpenerDirector.open\u001b[39m\u001b[34m(self, fullurl, data, timeout)\u001b[39m\n\u001b[32m    524\u001b[39m     meth = \u001b[38;5;28mgetattr\u001b[39m(processor, meth_name)\n\u001b[32m--> \u001b[39m\u001b[32m525\u001b[39m     response = \u001b[43mmeth\u001b[49m\u001b[43m(\u001b[49m\u001b[43mreq\u001b[49m\u001b[43m,\u001b[49m\u001b[43m \u001b[49m\u001b[43mresponse\u001b[49m\u001b[43m)\u001b[49m\n\u001b[32m    527\u001b[39m \u001b[38;5;28;01mreturn\u001b[39;00m response\n",
      "\u001b[36mFile \u001b[39m\u001b[32m~\\AppData\\Local\\Programs\\Python\\Python311\\Lib\\urllib\\request.py:634\u001b[39m, in \u001b[36mHTTPErrorProcessor.http_response\u001b[39m\u001b[34m(self, request, response)\u001b[39m\n\u001b[32m    633\u001b[39m \u001b[38;5;28;01mif\u001b[39;00m \u001b[38;5;129;01mnot\u001b[39;00m (\u001b[32m200\u001b[39m <= code < \u001b[32m300\u001b[39m):\n\u001b[32m--> \u001b[39m\u001b[32m634\u001b[39m     response = \u001b[38;5;28;43mself\u001b[39;49m\u001b[43m.\u001b[49m\u001b[43mparent\u001b[49m\u001b[43m.\u001b[49m\u001b[43merror\u001b[49m\u001b[43m(\u001b[49m\n\u001b[32m    635\u001b[39m \u001b[43m        \u001b[49m\u001b[33;43m'\u001b[39;49m\u001b[33;43mhttp\u001b[39;49m\u001b[33;43m'\u001b[39;49m\u001b[43m,\u001b[49m\u001b[43m \u001b[49m\u001b[43mrequest\u001b[49m\u001b[43m,\u001b[49m\u001b[43m \u001b[49m\u001b[43mresponse\u001b[49m\u001b[43m,\u001b[49m\u001b[43m \u001b[49m\u001b[43mcode\u001b[49m\u001b[43m,\u001b[49m\u001b[43m \u001b[49m\u001b[43mmsg\u001b[49m\u001b[43m,\u001b[49m\u001b[43m \u001b[49m\u001b[43mhdrs\u001b[49m\u001b[43m)\u001b[49m\n\u001b[32m    637\u001b[39m \u001b[38;5;28;01mreturn\u001b[39;00m response\n",
      "\u001b[36mFile \u001b[39m\u001b[32m~\\AppData\\Local\\Programs\\Python\\Python311\\Lib\\urllib\\request.py:563\u001b[39m, in \u001b[36mOpenerDirector.error\u001b[39m\u001b[34m(self, proto, *args)\u001b[39m\n\u001b[32m    562\u001b[39m args = (\u001b[38;5;28mdict\u001b[39m, \u001b[33m'\u001b[39m\u001b[33mdefault\u001b[39m\u001b[33m'\u001b[39m, \u001b[33m'\u001b[39m\u001b[33mhttp_error_default\u001b[39m\u001b[33m'\u001b[39m) + orig_args\n\u001b[32m--> \u001b[39m\u001b[32m563\u001b[39m \u001b[38;5;28;01mreturn\u001b[39;00m \u001b[38;5;28;43mself\u001b[39;49m\u001b[43m.\u001b[49m\u001b[43m_call_chain\u001b[49m\u001b[43m(\u001b[49m\u001b[43m*\u001b[49m\u001b[43margs\u001b[49m\u001b[43m)\u001b[49m\n",
      "\u001b[36mFile \u001b[39m\u001b[32m~\\AppData\\Local\\Programs\\Python\\Python311\\Lib\\urllib\\request.py:496\u001b[39m, in \u001b[36mOpenerDirector._call_chain\u001b[39m\u001b[34m(self, chain, kind, meth_name, *args)\u001b[39m\n\u001b[32m    495\u001b[39m func = \u001b[38;5;28mgetattr\u001b[39m(handler, meth_name)\n\u001b[32m--> \u001b[39m\u001b[32m496\u001b[39m result = \u001b[43mfunc\u001b[49m\u001b[43m(\u001b[49m\u001b[43m*\u001b[49m\u001b[43margs\u001b[49m\u001b[43m)\u001b[49m\n\u001b[32m    497\u001b[39m \u001b[38;5;28;01mif\u001b[39;00m result \u001b[38;5;129;01mis\u001b[39;00m \u001b[38;5;129;01mnot\u001b[39;00m \u001b[38;5;28;01mNone\u001b[39;00m:\n",
      "\u001b[36mFile \u001b[39m\u001b[32m~\\AppData\\Local\\Programs\\Python\\Python311\\Lib\\urllib\\request.py:643\u001b[39m, in \u001b[36mHTTPDefaultErrorHandler.http_error_default\u001b[39m\u001b[34m(self, req, fp, code, msg, hdrs)\u001b[39m\n\u001b[32m    642\u001b[39m \u001b[38;5;28;01mdef\u001b[39;00m\u001b[38;5;250m \u001b[39m\u001b[34mhttp_error_default\u001b[39m(\u001b[38;5;28mself\u001b[39m, req, fp, code, msg, hdrs):\n\u001b[32m--> \u001b[39m\u001b[32m643\u001b[39m     \u001b[38;5;28;01mraise\u001b[39;00m HTTPError(req.full_url, code, msg, hdrs, fp)\n",
      "\u001b[31mHTTPError\u001b[39m: HTTP Error 400: Bad Request",
      "\nDuring handling of the above exception, another exception occurred:\n",
      "\u001b[31mQueryBadFormed\u001b[39m                            Traceback (most recent call last)",
      "\u001b[36mCell\u001b[39m\u001b[36m \u001b[39m\u001b[32mIn[52]\u001b[39m\u001b[32m, line 35\u001b[39m\n\u001b[32m      1\u001b[39m endpoint = \u001b[33m\"\u001b[39m\u001b[33mhttp://dbpedia.org/sparql\u001b[39m\u001b[33m\"\u001b[39m\n\u001b[32m      3\u001b[39m query = \u001b[33m\"\"\"\u001b[39m\n\u001b[32m      4\u001b[39m \u001b[33mPREFIX dbo: <http://dbpedia.org/ontology/>\u001b[39m\n\u001b[32m      5\u001b[39m \u001b[33mPREFIX dbr: <http://dbpedia.org/resource/>\u001b[39m\n\u001b[32m   (...)\u001b[39m\u001b[32m     32\u001b[39m \u001b[33mLIMIT 50\u001b[39m\n\u001b[32m     33\u001b[39m \u001b[33m\"\"\"\u001b[39m\n\u001b[32m---> \u001b[39m\u001b[32m35\u001b[39m dbpedia_countries = \u001b[43mtable_from_query\u001b[49m\u001b[43m(\u001b[49m\u001b[43mendpoint\u001b[49m\u001b[43m,\u001b[49m\u001b[43m \u001b[49m\u001b[43mquery\u001b[49m\u001b[43m)\u001b[49m\n\u001b[32m     36\u001b[39m dbpedia_countries.head()\n",
      "\u001b[36mCell\u001b[39m\u001b[36m \u001b[39m\u001b[32mIn[29]\u001b[39m\u001b[32m, line 19\u001b[39m, in \u001b[36mtable_from_query\u001b[39m\u001b[34m(endpoint, query)\u001b[39m\n\u001b[32m     16\u001b[39m \u001b[38;5;28;01mdef\u001b[39;00m\u001b[38;5;250m \u001b[39m\u001b[34mtable_from_query\u001b[39m(endpoint, query):\n\u001b[32m     17\u001b[39m \u001b[38;5;250m    \u001b[39m\u001b[33;03m\"\"\" Execute a query on an endpoint and return the results as a dataframe.\u001b[39;00m\n\u001b[32m     18\u001b[39m \u001b[33;03m    \"\"\"\u001b[39;00m\n\u001b[32m---> \u001b[39m\u001b[32m19\u001b[39m     query_results = \u001b[43mexecute_query\u001b[49m\u001b[43m(\u001b[49m\u001b[43mendpoint\u001b[49m\u001b[43m,\u001b[49m\u001b[43m \u001b[49m\u001b[43mquery\u001b[49m\u001b[43m)\u001b[49m\n\u001b[32m     20\u001b[39m     dataframe = create_dataframe(query_results)\n\u001b[32m     22\u001b[39m     \u001b[38;5;28;01mreturn\u001b[39;00m dataframe\n",
      "\u001b[36mCell\u001b[39m\u001b[36m \u001b[39m\u001b[32mIn[30]\u001b[39m\u001b[32m, line 5\u001b[39m, in \u001b[36mexecute_query\u001b[39m\u001b[34m(endpoint_url, query)\u001b[39m\n\u001b[32m      3\u001b[39m sparql.setQuery(query)\n\u001b[32m      4\u001b[39m sparql.setReturnFormat(JSON)\n\u001b[32m----> \u001b[39m\u001b[32m5\u001b[39m \u001b[38;5;28;01mreturn\u001b[39;00m \u001b[43msparql\u001b[49m\u001b[43m.\u001b[49m\u001b[43mquery\u001b[49m\u001b[43m(\u001b[49m\u001b[43m)\u001b[49m.convert()\n",
      "\u001b[36mFile \u001b[39m\u001b[32m~\\AppData\\Local\\Programs\\Python\\Python311\\Lib\\site-packages\\SPARQLWrapper\\Wrapper.py:960\u001b[39m, in \u001b[36mSPARQLWrapper.query\u001b[39m\u001b[34m(self)\u001b[39m\n\u001b[32m    942\u001b[39m \u001b[38;5;28;01mdef\u001b[39;00m\u001b[38;5;250m \u001b[39m\u001b[34mquery\u001b[39m(\u001b[38;5;28mself\u001b[39m) -> \u001b[33m\"\u001b[39m\u001b[33mQueryResult\u001b[39m\u001b[33m\"\u001b[39m:\n\u001b[32m    943\u001b[39m \u001b[38;5;250m    \u001b[39m\u001b[33;03m\"\"\"\u001b[39;00m\n\u001b[32m    944\u001b[39m \u001b[33;03m    Execute the query.\u001b[39;00m\n\u001b[32m    945\u001b[39m \u001b[33;03m    Exceptions can be raised if either the URI is wrong or the HTTP sends back an error (this is also the\u001b[39;00m\n\u001b[32m   (...)\u001b[39m\u001b[32m    958\u001b[39m \u001b[33;03m    :rtype: :class:`QueryResult` instance\u001b[39;00m\n\u001b[32m    959\u001b[39m \u001b[33;03m    \"\"\"\u001b[39;00m\n\u001b[32m--> \u001b[39m\u001b[32m960\u001b[39m     \u001b[38;5;28;01mreturn\u001b[39;00m QueryResult(\u001b[38;5;28;43mself\u001b[39;49m\u001b[43m.\u001b[49m\u001b[43m_query\u001b[49m\u001b[43m(\u001b[49m\u001b[43m)\u001b[49m)\n",
      "\u001b[36mFile \u001b[39m\u001b[32m~\\AppData\\Local\\Programs\\Python\\Python311\\Lib\\site-packages\\SPARQLWrapper\\Wrapper.py:930\u001b[39m, in \u001b[36mSPARQLWrapper._query\u001b[39m\u001b[34m(self)\u001b[39m\n\u001b[32m    928\u001b[39m \u001b[38;5;28;01mexcept\u001b[39;00m urllib.error.HTTPError \u001b[38;5;28;01mas\u001b[39;00m e:\n\u001b[32m    929\u001b[39m     \u001b[38;5;28;01mif\u001b[39;00m e.code == \u001b[32m400\u001b[39m:\n\u001b[32m--> \u001b[39m\u001b[32m930\u001b[39m         \u001b[38;5;28;01mraise\u001b[39;00m QueryBadFormed(e.read())\n\u001b[32m    931\u001b[39m     \u001b[38;5;28;01melif\u001b[39;00m e.code == \u001b[32m404\u001b[39m:\n\u001b[32m    932\u001b[39m         \u001b[38;5;28;01mraise\u001b[39;00m EndPointNotFound(e.read())\n",
      "\u001b[31mQueryBadFormed\u001b[39m: QueryBadFormed: A bad request has been sent to the endpoint: probably the SPARQL query is badly formed. \n\nResponse:\nb\"Virtuoso 37000 Error SP030: SPARQL compiler, line 23: Too many arguments for standard built-in function round() at ')' before ','\\n\\nSPARQL query:\\n#output-format:application/sparql-results+json\\n\\nPREFIX dbo: <http://dbpedia.org/ontology/>\\nPREFIX dbr: <http://dbpedia.org/resource/>\\nPREFIX rdfs: <http://www.w3.org/2000/01/rdf-schema#>\\nPREFIX yago: <http://dbpedia.org/class/yago/>\\nPREFIX xsd: <http://www.w3.org/2001/XMLSchema#>\\n\\nSELECT DISTINCT ?country ?name ?area_100k_km2 ?areaWater ?water_percent ?giniCoefficient\\nWHERE {\\n  ?country a yago:WikicatMemberStatesOfTheEuropeanUnion ;\\n           dbo:area ?area ;\\n           rdfs:label ?name .\\n  OPTIONAL { ?country dbo:areaWater ?areaWater . }\\n  OPTIONAL { ?country dbo:giniCoefficient ?giniCoefficient . }\\n\\n  # oppervlakte in 100k km\\xc2\\xb2 (zoals in de originele opdracht)\\n  BIND(ROUND(?area / 100000000000) AS ?area_100k_km2)\\n\\n  # bereken percentage wateroppervlak\\n  BIND(\\n    IF(bound(?areaWater),\\n       ROUND((?areaWater / ?area) * 100, 2),\\n       0\\n    ) AS ?water_percent\\n  )\\n\\n  FILTER(LANG(?name) = 'en')\\n}\\nORDER BY DESC(?area_100k_km2)\\nLIMIT 50\\n\\n\""
     ]
    }
   ],
   "source": [
    "endpoint = \"http://dbpedia.org/sparql\"\n",
    "\n",
    "query = \"\"\"\n",
    "PREFIX dbo: <http://dbpedia.org/ontology/>\n",
    "PREFIX dbr: <http://dbpedia.org/resource/>\n",
    "PREFIX rdfs: <http://www.w3.org/2000/01/rdf-schema#>\n",
    "PREFIX yago: <http://dbpedia.org/class/yago/>\n",
    "PREFIX xsd: <http://www.w3.org/2001/XMLSchema#>\n",
    "\n",
    "SELECT DISTINCT ?country ?name ?area_100k_km2 ?areaWater ?water_percent ?giniCoefficient\n",
    "WHERE {\n",
    "  ?country a yago:WikicatMemberStatesOfTheEuropeanUnion ;\n",
    "           dbo:area ?area ;\n",
    "           rdfs:label ?name .\n",
    "  OPTIONAL { ?country dbo:areaWater ?areaWater . }\n",
    "  OPTIONAL { ?country dbo:giniCoefficient ?giniCoefficient . }\n",
    "\n",
    "  # oppervlakte in 100k km² (zoals in de originele opdracht)\n",
    "  BIND(ROUND(?area / 100000000000) AS ?area_100k_km2)\n",
    "\n",
    "  # bereken percentage wateroppervlak\n",
    "  BIND(\n",
    "    IF(bound(?areaWater),\n",
    "       ROUND((?areaWater / ?area) * 100, 2),\n",
    "       0\n",
    "    ) AS ?water_percent\n",
    "  )\n",
    "\n",
    "  FILTER(LANG(?name) = 'en')\n",
    "}\n",
    "ORDER BY DESC(?area_100k_km2)\n",
    "LIMIT 50\n",
    "\"\"\"\n",
    "\n",
    "dbpedia_countries = table_from_query(endpoint, query)\n",
    "dbpedia_countries.head()\n"
   ]
  },
  {
   "cell_type": "code",
   "execution_count": 53,
   "id": "bb5be1df",
   "metadata": {},
   "outputs": [
    {
     "ename": "NameError",
     "evalue": "name 'dbpedia_countries' is not defined",
     "output_type": "error",
     "traceback": [
      "\u001b[31m---------------------------------------------------------------------------\u001b[39m",
      "\u001b[31mNameError\u001b[39m                                 Traceback (most recent call last)",
      "\u001b[36mCell\u001b[39m\u001b[36m \u001b[39m\u001b[32mIn[53]\u001b[39m\u001b[32m, line 7\u001b[39m\n\u001b[32m      4\u001b[39m     \u001b[38;5;28;01mreturn\u001b[39;00m \u001b[33mf\u001b[39m\u001b[33m'\u001b[39m\u001b[33mbackground-color: hsl(\u001b[39m\u001b[38;5;132;01m{\u001b[39;00mhue\u001b[38;5;132;01m}\u001b[39;00m\u001b[33m, 70%, 70%)\u001b[39m\u001b[33m'\u001b[39m\n\u001b[32m      6\u001b[39m \u001b[38;5;66;03m# Zet kolommen op juiste type\u001b[39;00m\n\u001b[32m----> \u001b[39m\u001b[32m7\u001b[39m dbpedia_countries[\u001b[33m'\u001b[39m\u001b[33mwater_percent\u001b[39m\u001b[33m'\u001b[39m] = \u001b[43mdbpedia_countries\u001b[49m[\u001b[33m'\u001b[39m\u001b[33mwater_percent\u001b[39m\u001b[33m'\u001b[39m].astype(\u001b[38;5;28mfloat\u001b[39m)\n\u001b[32m      9\u001b[39m \u001b[38;5;66;03m# Toon mooi gestylede tabel\u001b[39;00m\n\u001b[32m     10\u001b[39m dbpedia_countries.style.map(water_color, subset=[\u001b[33m'\u001b[39m\u001b[33mwater_percent\u001b[39m\u001b[33m'\u001b[39m])\n",
      "\u001b[31mNameError\u001b[39m: name 'dbpedia_countries' is not defined"
     ]
    }
   ],
   "source": [
    "def water_color(percent):\n",
    "    # Hoe hoger het waterpercentage, hoe blauwer\n",
    "    hue = 240 - (percent * 2.4)   # 240 = blauw, 120 = groen\n",
    "    return f'background-color: hsl({hue}, 70%, 70%)'\n",
    "\n",
    "# Zet kolommen op juiste type\n",
    "dbpedia_countries['water_percent'] = dbpedia_countries['water_percent'].astype(float)\n",
    "\n",
    "# Toon mooi gestylede tabel\n",
    "dbpedia_countries.style.map(water_color, subset=['water_percent'])\n"
   ]
  },
  {
   "cell_type": "markdown",
   "id": "e178e65c",
   "metadata": {},
   "source": [
    "# Map Visualizations\n",
    "\n",
    "Below is a query to find all EU capitals, together with their coordinates. The results are drawn on a map using the library `folium`. \n",
    "\n",
    "First run the following cells to install and import the library."
   ]
  },
  {
   "cell_type": "code",
   "execution_count": 55,
   "id": "0028de89",
   "metadata": {},
   "outputs": [
    {
     "name": "stdout",
     "output_type": "stream",
     "text": [
      "Requirement already satisfied: folium in c:\\users\\kevin\\appdata\\local\\programs\\python\\python311\\lib\\site-packages (0.20.0)\n",
      "Requirement already satisfied: branca>=0.6.0 in c:\\users\\kevin\\appdata\\local\\programs\\python\\python311\\lib\\site-packages (from folium) (0.8.1)\n",
      "Requirement already satisfied: jinja2>=2.9 in c:\\users\\kevin\\appdata\\local\\programs\\python\\python311\\lib\\site-packages (from folium) (3.1.2)\n",
      "Requirement already satisfied: numpy in c:\\users\\kevin\\appdata\\local\\programs\\python\\python311\\lib\\site-packages (from folium) (1.26.1)\n",
      "Requirement already satisfied: requests in c:\\users\\kevin\\appdata\\local\\programs\\python\\python311\\lib\\site-packages (from folium) (2.32.5)\n",
      "Requirement already satisfied: xyzservices in c:\\users\\kevin\\appdata\\local\\programs\\python\\python311\\lib\\site-packages (from folium) (2025.4.0)\n",
      "Requirement already satisfied: MarkupSafe>=2.0 in c:\\users\\kevin\\appdata\\local\\programs\\python\\python311\\lib\\site-packages (from jinja2>=2.9->folium) (2.1.3)\n",
      "Requirement already satisfied: charset_normalizer<4,>=2 in c:\\users\\kevin\\appdata\\local\\programs\\python\\python311\\lib\\site-packages (from requests->folium) (3.4.3)\n",
      "Requirement already satisfied: idna<4,>=2.5 in c:\\users\\kevin\\appdata\\local\\programs\\python\\python311\\lib\\site-packages (from requests->folium) (3.10)\n",
      "Requirement already satisfied: urllib3<3,>=1.21.1 in c:\\users\\kevin\\appdata\\local\\programs\\python\\python311\\lib\\site-packages (from requests->folium) (2.5.0)\n",
      "Requirement already satisfied: certifi>=2017.4.17 in c:\\users\\kevin\\appdata\\local\\programs\\python\\python311\\lib\\site-packages (from requests->folium) (2025.8.3)\n",
      "Note: you may need to restart the kernel to use updated packages.\n"
     ]
    },
    {
     "name": "stderr",
     "output_type": "stream",
     "text": [
      "\n",
      "[notice] A new release of pip is available: 24.2 -> 25.2\n",
      "[notice] To update, run: C:\\Users\\Kevin\\AppData\\Local\\Programs\\Python\\Python311\\python.exe -m pip install --upgrade pip\n"
     ]
    }
   ],
   "source": [
    "%pip install folium"
   ]
  },
  {
   "cell_type": "code",
   "execution_count": 56,
   "id": "961f68dc-52a1-4128-9464-584f04ddf34c",
   "metadata": {},
   "outputs": [],
   "source": [
    "import folium"
   ]
  },
  {
   "cell_type": "markdown",
   "id": "349978e1-9f78-43a8-89ef-312333b89c17",
   "metadata": {},
   "source": [
    "# Task 6 (20 points) - Population counts\n",
    "\n",
    "We ask you to update the query and code below to make the markers (circles) scale with the population of the capital (but keep it readable!)."
   ]
  },
  {
   "cell_type": "code",
   "execution_count": 57,
   "id": "b3d8d2fd",
   "metadata": {},
   "outputs": [
    {
     "ename": "NameError",
     "evalue": "name 'URIRef' is not defined",
     "output_type": "error",
     "traceback": [
      "\u001b[31m---------------------------------------------------------------------------\u001b[39m",
      "\u001b[31mNameError\u001b[39m                                 Traceback (most recent call last)",
      "\u001b[36mCell\u001b[39m\u001b[36m \u001b[39m\u001b[32mIn[57]\u001b[39m\u001b[32m, line 16\u001b[39m\n\u001b[32m      1\u001b[39m endpoint = \u001b[33m\"\u001b[39m\u001b[33mhttp://query.wikidata.org/sparql\u001b[39m\u001b[33m\"\u001b[39m\n\u001b[32m      2\u001b[39m query = \u001b[33m\"\"\"\u001b[39m\n\u001b[32m      3\u001b[39m \u001b[33mSELECT ?capitalLabel ?coords \u001b[39m\n\u001b[32m      4\u001b[39m \u001b[33mWHERE \u001b[39m\u001b[33m{\u001b[39m\n\u001b[32m   (...)\u001b[39m\u001b[32m     13\u001b[39m \u001b[33m    SERVICE wikibase:label \u001b[39m\u001b[33m{\u001b[39m\u001b[33m bd:serviceParam wikibase:language \u001b[39m\u001b[33m\"\u001b[39m\u001b[33m[AUTO_LANGUAGE],en\u001b[39m\u001b[33m\"\u001b[39m\u001b[33m. }\u001b[39m\n\u001b[32m     14\u001b[39m \u001b[33m}\u001b[39m\u001b[33m\"\"\"\u001b[39m\n\u001b[32m---> \u001b[39m\u001b[32m16\u001b[39m capitals = \u001b[43mtable_from_query\u001b[49m\u001b[43m(\u001b[49m\u001b[43mendpoint\u001b[49m\u001b[43m,\u001b[49m\u001b[43m \u001b[49m\u001b[43mquery\u001b[49m\u001b[43m)\u001b[49m\n",
      "\u001b[36mCell\u001b[39m\u001b[36m \u001b[39m\u001b[32mIn[29]\u001b[39m\u001b[32m, line 20\u001b[39m, in \u001b[36mtable_from_query\u001b[39m\u001b[34m(endpoint, query)\u001b[39m\n\u001b[32m     17\u001b[39m \u001b[38;5;250m\u001b[39m\u001b[33;03m\"\"\" Execute a query on an endpoint and return the results as a dataframe.\u001b[39;00m\n\u001b[32m     18\u001b[39m \u001b[33;03m\"\"\"\u001b[39;00m\n\u001b[32m     19\u001b[39m query_results = execute_query(endpoint, query)\n\u001b[32m---> \u001b[39m\u001b[32m20\u001b[39m dataframe = \u001b[43mcreate_dataframe\u001b[49m\u001b[43m(\u001b[49m\u001b[43mquery_results\u001b[49m\u001b[43m)\u001b[49m\n\u001b[32m     22\u001b[39m \u001b[38;5;28;01mreturn\u001b[39;00m dataframe\n",
      "\u001b[36mCell\u001b[39m\u001b[36m \u001b[39m\u001b[32mIn[30]\u001b[39m\u001b[32m, line 13\u001b[39m, in \u001b[36mcreate_dataframe\u001b[39m\u001b[34m(results)\u001b[39m\n\u001b[32m     11\u001b[39m     row = []\n\u001b[32m     12\u001b[39m     \u001b[38;5;28;01mfor\u001b[39;00m c \u001b[38;5;129;01min\u001b[39;00m cols:\n\u001b[32m---> \u001b[39m\u001b[32m13\u001b[39m         row.append(\u001b[43mcast\u001b[49m\u001b[43m(\u001b[49m\u001b[43mb\u001b[49m\u001b[43m[\u001b[49m\u001b[43mc\u001b[49m\u001b[43m]\u001b[49m\u001b[43m)\u001b[49m \u001b[38;5;28;01mif\u001b[39;00m c \u001b[38;5;129;01min\u001b[39;00m b \u001b[38;5;28;01melse\u001b[39;00m \u001b[38;5;28;01mNone\u001b[39;00m)   \u001b[38;5;66;03m# << hier de juiste binding casten\u001b[39;00m\n\u001b[32m     14\u001b[39m     rows.append(row)\n\u001b[32m     15\u001b[39m \u001b[38;5;28;01mreturn\u001b[39;00m pd.DataFrame(rows, columns=cols)\n",
      "\u001b[36mCell\u001b[39m\u001b[36m \u001b[39m\u001b[32mIn[29]\u001b[39m\u001b[32m, line 7\u001b[39m, in \u001b[36mcast\u001b[39m\u001b[34m(value)\u001b[39m\n\u001b[32m      5\u001b[39m v = value[\u001b[33m'\u001b[39m\u001b[33mvalue\u001b[39m\u001b[33m'\u001b[39m]\n\u001b[32m      6\u001b[39m \u001b[38;5;28;01mif\u001b[39;00m value[\u001b[33m'\u001b[39m\u001b[33mtype\u001b[39m\u001b[33m'\u001b[39m] \u001b[38;5;129;01min\u001b[39;00m [\u001b[33m'\u001b[39m\u001b[33mliteral\u001b[39m\u001b[33m'\u001b[39m, \u001b[33m'\u001b[39m\u001b[33mtyped-literal\u001b[39m\u001b[33m'\u001b[39m] \u001b[38;5;129;01mand\u001b[39;00m \u001b[33m'\u001b[39m\u001b[33mdatatype\u001b[39m\u001b[33m'\u001b[39m \u001b[38;5;129;01min\u001b[39;00m value.keys():\n\u001b[32m----> \u001b[39m\u001b[32m7\u001b[39m     dtype = \u001b[43mURIRef\u001b[49m(value[\u001b[33m'\u001b[39m\u001b[33mdatatype\u001b[39m\u001b[33m'\u001b[39m])\n\u001b[32m      8\u001b[39m     \u001b[38;5;28;01mif\u001b[39;00m \u001b[38;5;28many\u001b[39m(d \u001b[38;5;129;01min\u001b[39;00m dtype \u001b[38;5;28;01mfor\u001b[39;00m d \u001b[38;5;129;01min\u001b[39;00m (\u001b[33m'\u001b[39m\u001b[33minteger\u001b[39m\u001b[33m'\u001b[39m, \u001b[33m'\u001b[39m\u001b[33mlong\u001b[39m\u001b[33m'\u001b[39m, \u001b[33m'\u001b[39m\u001b[33mint\u001b[39m\u001b[33m'\u001b[39m, \u001b[33m'\u001b[39m\u001b[33mshort\u001b[39m\u001b[33m'\u001b[39m, \u001b[33m'\u001b[39m\u001b[33mbyte\u001b[39m\u001b[33m'\u001b[39m)):\n\u001b[32m      9\u001b[39m         \u001b[38;5;28;01mreturn\u001b[39;00m \u001b[38;5;28mint\u001b[39m(v)\n",
      "\u001b[31mNameError\u001b[39m: name 'URIRef' is not defined"
     ]
    }
   ],
   "source": [
    "endpoint = \"http://query.wikidata.org/sparql\"\n",
    "query = \"\"\"\n",
    "SELECT ?capitalLabel ?coords \n",
    "WHERE {\n",
    "    ?country\n",
    "        wdt:P463 wd:Q458 ; # member of: European Union\n",
    "        wdt:P36 ?capital . # capital: ?capital\n",
    "        \n",
    "    ?capital \n",
    "        wdt:P625 ?coords . # coordinate location: ?coords\n",
    "    \n",
    "    # Using Wikidata-only label service\n",
    "    SERVICE wikibase:label { bd:serviceParam wikibase:language \"[AUTO_LANGUAGE],en\". }\n",
    "}\"\"\"\n",
    "\n",
    "capitals = table_from_query(endpoint, query)"
   ]
  },
  {
   "cell_type": "code",
   "execution_count": null,
   "id": "46ded7e8",
   "metadata": {},
   "outputs": [],
   "source": [
    "# Extract latitude and longitude from coordinates in Well-Known Text (WKT) format\n",
    "capitals_coords = capitals.join(capitals.coords.str.extract('Point\\\\((?P<lon>\\\\S+) (?P<lat>\\\\S+)\\\\)').astype(float))\n",
    "\n",
    "middle = [capitals_coords['lat'].mean(), capitals_coords['lon'].mean()]\n",
    "m = folium.Map(location=middle, zoom_start=4)\n",
    "for _, row in capitals_coords.iterrows():\n",
    "    folium.CircleMarker(\n",
    "        location=[row['lat'], row['lon']],\n",
    "        radius= 20,\n",
    "        popup= row['capitalLabel'],\n",
    "        color=\"#3186cc\",\n",
    "        fill=True,\n",
    "        fill_color=\"#3186cc\",\n",
    "    ).add_to(m)\n",
    "\n",
    "m"
   ]
  },
  {
   "cell_type": "code",
   "execution_count": null,
   "id": "5fce3f4e-4405-48db-a92b-15301f99a431",
   "metadata": {},
   "outputs": [],
   "source": []
  }
 ],
 "metadata": {
  "kernelspec": {
   "display_name": "Python 3 (ipykernel)",
   "language": "python",
   "name": "python3"
  },
  "language_info": {
   "codemirror_mode": {
    "name": "ipython",
    "version": 3
   },
   "file_extension": ".py",
   "mimetype": "text/x-python",
   "name": "python",
   "nbconvert_exporter": "python",
   "pygments_lexer": "ipython3",
   "version": "3.11.5"
  }
 },
 "nbformat": 4,
 "nbformat_minor": 5
}
