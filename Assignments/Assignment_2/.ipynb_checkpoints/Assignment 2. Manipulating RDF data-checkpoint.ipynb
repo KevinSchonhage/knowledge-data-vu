{
 "cells": [
  {
   "cell_type": "markdown",
   "metadata": {},
   "source": [
    "# Knowledge and Data: Practical Assignment 2\n",
    "## Manipulate local and external RDF Knowledge Graphs "
   ]
  },
  {
   "cell_type": "markdown",
   "metadata": {},
   "source": [
    "YOUR NAME: Kevin Schönhage\n",
    "\n",
    "YOUR VUNetID: OMN496\n",
    "\n",
    "*(If you do not provide your name and VUNetID we will not accept your submission).*"
   ]
  },
  {
   "cell_type": "markdown",
   "metadata": {},
   "source": [
    "### Learning objectives"
   ]
  },
  {
   "cell_type": "markdown",
   "metadata": {},
   "source": [
    "At the end of this exercise you should be able to perform some simple manipulations of RDF Data using the rdflib library. You should be able to: \n",
    "\n",
    "1. Add and retrieve information from a local RDF database\n",
    "2. Represent RDF data in other formats, such as the .dot format for graph visualisation\n",
    "3. Retrieve information from an RDF database created from Web Data\n",
    "4. Query information from the Web with SPARQL"
   ]
  },
  {
   "cell_type": "markdown",
   "metadata": {},
   "source": [
    "### Practicalities"
   ]
  },
  {
   "cell_type": "markdown",
   "metadata": {},
   "source": [
    "Follow this Notebook step-by-step. \n",
    "\n",
    "Of course, you can do the exercises in any Programming Editor of your liking. \n",
    "But you do not have to. Feel free to simply write code in the Notebook. When \n",
    "everything is filled in and works, save the Notebook and submit it \n",
    "as a Jupyter Notebook, i.e. with an .ipynb extension. Please use as name of the \n",
    "Notebook your studentID+Assignment2.ipynb.  \n",
    "\n",
    "We will not evaluate the programming style of your solutions. Yet we do look whether your solutions suggests an understanding, and whether they yield the correct output.\n",
    "\n",
    "Note that all notebooks will automatically be checked for plagiarism: while similar answers can be expected, it is not allowed to directly copy the solutions from fellow students or TAs, or from the examples discussed during the lectures. Similarly, sharing your solutions with your peers is not allowed."
   ]
  },
  {
   "cell_type": "markdown",
   "metadata": {},
   "source": [
    "# A. Tasks related to local RDF Knowledge Graphs"
   ]
  },
  {
   "cell_type": "markdown",
   "metadata": {},
   "source": [
    "This first cell will open a file 'example-from-slide.ttl' using the rdflib library. The first Practical Assignment should have taught you that manipulating symbols as strings is a major pain. \n",
    "\n",
    "Programming libraries, such as **rdflib**, help you with this mess once and for all, by parsing the files, creating appropriate datastructures (Graph()) and providing useful functions (such as serialize(), save() and much more). \n",
    "Check the website of rdflib http://rdflib.readthedocs.io/: this library does most of the hard work for you."
   ]
  },
  {
   "cell_type": "code",
   "execution_count": 3,
   "metadata": {},
   "outputs": [
    {
     "name": "stdout",
     "output_type": "stream",
     "text": [
      "Collecting rdflib\n",
      "  Downloading rdflib-7.1.4-py3-none-any.whl.metadata (11 kB)\n",
      "Collecting pyparsing<4,>=2.1.0 (from rdflib)\n",
      "  Downloading pyparsing-3.2.4-py3-none-any.whl.metadata (5.0 kB)\n",
      "Downloading rdflib-7.1.4-py3-none-any.whl (565 kB)\n",
      "\u001b[2K   \u001b[90m━━━━━━━━━━━━━━━━━━━━━━━━━━━━━━━━━━━━━━━━\u001b[0m \u001b[32m565.1/565.1 kB\u001b[0m \u001b[31m3.3 MB/s\u001b[0m  \u001b[33m0:00:00\u001b[0m eta \u001b[36m0:00:01\u001b[0m\n",
      "\u001b[?25hDownloading pyparsing-3.2.4-py3-none-any.whl (113 kB)\n",
      "Installing collected packages: pyparsing, rdflib\n",
      "\u001b[2K   \u001b[90m━━━━━━━━━━━━━━━━━━━━━━━━━━━━━━━━━━━━━━━━\u001b[0m \u001b[32m2/2\u001b[0m [rdflib]2m1/2\u001b[0m [rdflib]\n",
      "\u001b[1A\u001b[2KSuccessfully installed pyparsing-3.2.4 rdflib-7.1.4\n",
      "Note: you may need to restart the kernel to use updated packages.\n"
     ]
    }
   ],
   "source": [
    "# Before starting with the tasks of this assignment, do not forget to install **rdflib** so we can start using it. \n",
    "%pip install rdflib"
   ]
  },
  {
   "cell_type": "code",
   "execution_count": 6,
   "metadata": {},
   "outputs": [],
   "source": [
    "from rdflib import Graph, RDF, Namespace, Literal, URIRef\n",
    "\n",
    "g = Graph()\n",
    "\n",
    "EX = Namespace('http://example.com/kad0/')\n",
    "g.bind('ex',EX)\n",
    "\n",
    "def serialize_graph():\n",
    "    # g.serialize() returns a string\n",
    "    print(g.serialize(format='turtle'))\n",
    "\n",
    "def save_graph(filename):\n",
    "    with open(filename, 'w') as f:\n",
    "        g.serialize(f, format='nt')\n",
    "        \n",
    "def load_graph(filename):\n",
    "    with open(filename, 'r') as f:\n",
    "        g.parse(f, format='turtle')   "
   ]
  },
  {
   "cell_type": "markdown",
   "metadata": {},
   "source": [
    "The file 'example-from-slides.ttl' formalises the knowledge base from the slides from Module 1, and a bit more. \n",
    "\n",
    "Here is how it looks when you load it into your program and serialise it with rdflib in turtle. "
   ]
  },
  {
   "cell_type": "code",
   "execution_count": 7,
   "metadata": {},
   "outputs": [
    {
     "name": "stdout",
     "output_type": "stream",
     "text": [
      "@prefix ex1: <http://example.com/kad/> .\n",
      "@prefix rdfs: <http://www.w3.org/2000/01/rdf-schema#> .\n",
      "\n",
      "ex1:Germany a ex1:EuropeanCountry .\n",
      "\n",
      "ex1:Netherlands a ex1:Country ;\n",
      "    ex1:hasCapital ex1:Amsterdam ;\n",
      "    ex1:hasName \"The Netherlands\" ;\n",
      "    ex1:neighbours ex1:Belgium .\n",
      "\n",
      "ex1:hasCapital rdfs:range ex1:Capital ;\n",
      "    rdfs:subPropertyOf ex1:containsCity .\n",
      "\n",
      "ex1:Amsterdam a ex1:Capital .\n",
      "\n",
      "ex1:Belgium a ex1:Country .\n",
      "\n",
      "ex1:EuropeanCountry rdfs:subClassOf ex1:Country .\n",
      "\n",
      "ex1:containsCity rdfs:domain ex1:Country ;\n",
      "    rdfs:range ex1:City .\n",
      "\n",
      "ex1:Capital rdfs:subClassOf ex1:City .\n",
      "\n",
      "\n"
     ]
    }
   ],
   "source": [
    "load_graph('example-from-slides.ttl')\n",
    "serialize_graph()"
   ]
  },
  {
   "cell_type": "markdown",
   "metadata": {},
   "source": [
    "Now, we can manipulate the graph very easily, e.g. like in the following very simple function, which returns the predicate(s) that relate a subject to a literal object: "
   ]
  },
  {
   "cell_type": "code",
   "execution_count": 8,
   "metadata": {
    "scrolled": true
   },
   "outputs": [
    {
     "name": "stdout",
     "output_type": "stream",
     "text": [
      "http://example.com/kad/hasName\n"
     ]
    }
   ],
   "source": [
    "for s,p,o in g:\n",
    "    if type(o) is Literal:\n",
    "        print(p)"
   ]
  },
  {
   "cell_type": "markdown",
   "metadata": {},
   "source": [
    "### - Task 1: (10 Points) Add information to an RDF graph"
   ]
  },
  {
   "cell_type": "markdown",
   "metadata": {},
   "source": [
    "Add triples to the knowledge graph. Make sure that they have the right namespaces. \n",
    "\n",
    "Similarily to the triples already present in the file 'example-from-slides.ttl':\n",
    "- add at least three new countries with their name and capital \n",
    "- add at least one triple with the `neighbour` predicate\n",
    "\n",
    "Check: http://rdflib.readthedocs.io/en/stable/intro_to_creating_rdf.html\n",
    "\n",
    "Remember that ```a``` is Turtle shorthand for ```rdf:type```."
   ]
  },
  {
   "cell_type": "code",
   "execution_count": 9,
   "metadata": {},
   "outputs": [
    {
     "name": "stdout",
     "output_type": "stream",
     "text": [
      "@prefix ex1: <http://example.com/kad/> .\n",
      "@prefix rdfs: <http://www.w3.org/2000/01/rdf-schema#> .\n",
      "\n",
      "ex1:Germany a ex1:EuropeanCountry .\n",
      "\n",
      "ex1:Italy a ex1:Country ;\n",
      "    ex1:hasCapital ex1:Rome ;\n",
      "    ex1:hasName \"Italy\" ;\n",
      "    ex1:neighbours ex1:France .\n",
      "\n",
      "ex1:Netherlands a ex1:Country ;\n",
      "    ex1:hasCapital ex1:Amsterdam ;\n",
      "    ex1:hasName \"The Netherlands\" ;\n",
      "    ex1:neighbours ex1:Belgium .\n",
      "\n",
      "ex1:Spain a ex1:Country ;\n",
      "    ex1:hasCapital ex1:Madrid ;\n",
      "    ex1:hasName \"Spain\" ;\n",
      "    ex1:neighbours ex1:France .\n",
      "\n",
      "ex1:hasCapital rdfs:range ex1:Capital ;\n",
      "    rdfs:subPropertyOf ex1:containsCity .\n",
      "\n",
      "ex1:Amsterdam a ex1:Capital .\n",
      "\n",
      "ex1:Belgium a ex1:Country .\n",
      "\n",
      "ex1:EuropeanCountry rdfs:subClassOf ex1:Country .\n",
      "\n",
      "ex1:Madrid a ex1:Capital ;\n",
      "    ex1:hasName \"Madrid\" .\n",
      "\n",
      "ex1:Paris a ex1:Capital ;\n",
      "    ex1:hasName \"Paris\" .\n",
      "\n",
      "ex1:Rome a ex1:Capital ;\n",
      "    ex1:hasName \"Rome\" .\n",
      "\n",
      "ex1:containsCity rdfs:domain ex1:Country ;\n",
      "    rdfs:range ex1:City .\n",
      "\n",
      "ex1:France a ex1:Country ;\n",
      "    ex1:hasCapital ex1:Paris ;\n",
      "    ex1:hasName \"France\" .\n",
      "\n",
      "ex1:Capital rdfs:subClassOf ex1:City .\n",
      "\n",
      "\n"
     ]
    }
   ],
   "source": [
    "ex = Namespace(\"http://example.com/kad/\")\n",
    "owl = Namespace(\"http://www.w3.org/2002/07/owl#\")\n",
    "rdf = Namespace(\"http://www.w3.org/1999/02/22-rdf-syntax-ns#\")\n",
    "rdfs = Namespace(\"http://www.w3.org/2000/01/rdf-schema#\")\n",
    "\n",
    "def add_country(country_label, capital_label):\n",
    "    country = ex[country_label]\n",
    "    capital = ex[capital_label]\n",
    "\n",
    "    g.add((country, rdf.type, ex.Country))\n",
    "    g.add((capital, rdf.type, ex.Capital))\n",
    "\n",
    "    g.add((country, ex.hasName, Literal(country_label)))\n",
    "    g.add((capital, ex.hasName, Literal(capital_label)))\n",
    "    g.add((country, ex.hasCapital, capital))\n",
    "\n",
    "add_country(\"France\", \"Paris\")\n",
    "add_country(\"Spain\", \"Madrid\")\n",
    "add_country(\"Italy\", \"Rome\")\n",
    "\n",
    "g.add((ex.Spain, ex.neighbours, ex.France))\n",
    "g.add((ex.Italy, ex.neighbours, ex.France))\n",
    "\n",
    "serialize_graph()"
   ]
  },
  {
   "cell_type": "markdown",
   "metadata": {},
   "source": [
    "*After you ran the previous code (adding triples) the next cells will be executed on your extended graph. That is ok.*"
   ]
  },
  {
   "cell_type": "markdown",
   "metadata": {},
   "source": [
    "### - Task 2a: (10 Points) Get unstructured information from an RDF graph (all Literals)"
   ]
  },
  {
   "cell_type": "markdown",
   "metadata": {},
   "source": [
    "Use the functions available in the RDFLib library. Write a small function to print all Literals. \n",
    "\n",
    "Hint: there is a function in rdflib to test the type of an object (check previous examples in this notebook)"
   ]
  },
  {
   "cell_type": "code",
   "execution_count": 10,
   "metadata": {
    "editable": true,
    "slideshow": {
     "slide_type": ""
    },
    "tags": []
   },
   "outputs": [
    {
     "name": "stdout",
     "output_type": "stream",
     "text": [
      "Paris\n",
      "The Netherlands\n",
      "Italy\n",
      "Rome\n",
      "Madrid\n",
      "Spain\n",
      "France\n"
     ]
    }
   ],
   "source": [
    "for s,p,o in g:\n",
    "    \n",
    "    if isinstance(o, Literal):\n",
    "        print(o)\n",
    "        \n",
    "    pass"
   ]
  },
  {
   "cell_type": "markdown",
   "metadata": {},
   "source": [
    "### - Task 2b: (10 Points) Get structured information from an RDF graph (all unique Predicates)"
   ]
  },
  {
   "cell_type": "markdown",
   "metadata": {},
   "source": [
    "Please provide another function that gives a **unique** list of the predicates, ordered by occurrence (most occurring first). Print the number of occurences next to the predicate. The answer will look similar to this: \n",
    "<br/>7: http://www.w3.org/1999/02/22-rdf-syntax-ns#type\n",
    "<br/>4: http://example.com/kad/hasName\n",
    "<br/>4: http://example.com/kad/hasCapital\n",
    "<br/>2: http://www.w3.org/2000/01/rdf-schema#subClassOf\n",
    "<br/>2: http://www.w3.org/2000/01/rdf-schema#range\n",
    "<br/>2: http://example.com/kad/neighbours\n",
    "<br/>1: http://www.w3.org/2000/01/rdf-schema#subPropertyOf\n",
    "<br/>1: http://www.w3.org/2000/01/rdf-schema#domain"
   ]
  },
  {
   "cell_type": "code",
   "execution_count": 11,
   "metadata": {},
   "outputs": [
    {
     "name": "stdout",
     "output_type": "stream",
     "text": [
      "10\thttp://www.w3.org/1999/02/22-rdf-syntax-ns#type\n",
      "7\thttp://example.com/kad/hasName\n",
      "4\thttp://example.com/kad/hasCapital\n",
      "3\thttp://example.com/kad/neighbours\n",
      "2\thttp://www.w3.org/2000/01/rdf-schema#range\n",
      "2\thttp://www.w3.org/2000/01/rdf-schema#subClassOf\n",
      "1\thttp://www.w3.org/2000/01/rdf-schema#domain\n",
      "1\thttp://www.w3.org/2000/01/rdf-schema#subPropertyOf\n"
     ]
    }
   ],
   "source": [
    "for s,p,o in g:\n",
    "    counts = {}\n",
    "\n",
    "for s, p, o in g:\n",
    "    counts[p] = counts.get(p, 0) + 1\n",
    "\n",
    "for p, c in sorted(counts.items(), key=lambda x: (-x[1], str(x[0]))):\n",
    "    print(f\"{c}\\t{p}\")\n",
    "\n",
    "    pass"
   ]
  },
  {
   "cell_type": "markdown",
   "metadata": {},
   "source": [
    "# B. Tasks related to Graph visualisations "
   ]
  },
  {
   "cell_type": "markdown",
   "metadata": {},
   "source": [
    "### - Task 3a: (20 Points) From RDF to .dot \n"
   ]
  },
  {
   "cell_type": "markdown",
   "metadata": {},
   "source": [
    "In the lecture, we have seen two ways of writing a knowledge graph (simple n-triples, and simple turtle). Let us consider a 3rd syntax, this time a syntax that is useful for visualisation. One standard for visualising graphs is the .dot format.\n",
    "\n",
    "Print the knowledge graph in .dot file format. Check https://graphviz.gitlab.io/documentation/ and https://graphviz.readthedocs.io/en/stable/ for the documentation. You will only need very little of this information, and the most relevant information can be found in the examples that are given. \n",
    "\n",
    "<br>Basically, an RDF graph in .dot format starts with `digraph G {` and then a list of links of the following form:\n",
    "<br>`s -> o [label=\"p\"]`\n",
    "<br>for every triple in the graph (separated by `;`). Do not forget to end with a closing bracket. `}`\n",
    "\n",
    "An example is \n",
    "     \n",
    "     digraph G { s1 -> o1 [label=\"p1\"] ; s2 -> o2 [label=\"p2\"] } \n",
    "     \n",
    "for an RDF graph [(s1 p1 o1), (s2 p2 o2)]"
   ]
  },
  {
   "cell_type": "code",
   "execution_count": 12,
   "metadata": {},
   "outputs": [
    {
     "name": "stdout",
     "output_type": "stream",
     "text": [
      "Collecting graphviz\n",
      "  Downloading graphviz-0.21-py3-none-any.whl.metadata (12 kB)\n",
      "Downloading graphviz-0.21-py3-none-any.whl (47 kB)\n",
      "Installing collected packages: graphviz\n",
      "Successfully installed graphviz-0.21\n",
      "Note: you may need to restart the kernel to use updated packages.\n"
     ]
    }
   ],
   "source": [
    "# install and import the graphviz library\n",
    "%pip install graphviz\n",
    "import graphviz\n",
    "\n",
    "from IPython import display"
   ]
  },
  {
   "cell_type": "markdown",
   "metadata": {},
   "source": [
    "First, create an auxiliary function which strips the namespaces from URIs. This is necessary to make the node names readable when visualizing the .dot graph. Make sure that literals are enclosed by quotation marks. Hint: use `'\"...\"'` or `\"\\\"...\\\"\"` to insert quotation marks in Python strings."
   ]
  },
  {
   "cell_type": "code",
   "execution_count": 17,
   "metadata": {},
   "outputs": [],
   "source": [
    "def strip(e):\n",
    "    if isinstance(e, URIRef):\n",
    "        s = str(e)\n",
    "        s = s.rsplit('#', 1)[-1]\n",
    "        s = s.rsplit('/', 1)[-1]\n",
    "        return s\n",
    "    return str(e)\n",
    "    \n",
    "    pass"
   ]
  },
  {
   "cell_type": "markdown",
   "metadata": {},
   "source": [
    "Next, convert your graph to the .dot format."
   ]
  },
  {
   "cell_type": "code",
   "execution_count": 18,
   "metadata": {},
   "outputs": [],
   "source": [
    "dot = graphviz.Digraph(strict=True, graph_attr={\"dpi\":\"50\"})\n",
    "for s, p, o in g:\n",
    "    s_label = strip(s)\n",
    "    p_label = strip(p)\n",
    "\n",
    "    if isinstance(o, Literal):\n",
    "        o_id = f\"lit_{abs(hash(str(o))) % 10**8}\"\n",
    "        dot.node(s_label)\n",
    "        dot.node(o_id, label=str(o), shape=\"plaintext\")\n",
    "        dot.edge(s_label, o_id, label=p_label)\n",
    "    else:\n",
    "        o_label = strip(o)\n",
    "        dot.edge(s_label, o_label, label=p_label)\n",
    "\n",
    "    pass"
   ]
  },
  {
   "cell_type": "markdown",
   "metadata": {},
   "source": [
    "View the end result as .dot syntax and as a graph:"
   ]
  },
  {
   "cell_type": "code",
   "execution_count": 19,
   "metadata": {},
   "outputs": [
    {
     "name": "stdout",
     "output_type": "stream",
     "text": [
      "strict digraph {\n",
      "\tgraph [dpi=50]\n",
      "\tParis\n",
      "\tlit_40346647 [label=Paris shape=plaintext]\n",
      "\tParis -> lit_40346647 [label=hasName]\n",
      "\tcontainsCity -> City [label=range]\n",
      "\tItaly -> Country [label=type]\n",
      "\thasCapital -> containsCity [label=subPropertyOf]\n",
      "\tNetherlands\n",
      "\tlit_16578088 [label=\"The Netherlands\" shape=plaintext]\n",
      "\tNetherlands -> lit_16578088 [label=hasName]\n",
      "\tFrance -> Country [label=type]\n",
      "\tEuropeanCountry -> Country [label=subClassOf]\n",
      "\tItaly\n",
      "\tlit_42111142 [label=Italy shape=plaintext]\n",
      "\tItaly -> lit_42111142 [label=hasName]\n",
      "\tcontainsCity -> Country [label=domain]\n",
      "\tRome\n",
      "\tlit_31283971 [label=Rome shape=plaintext]\n",
      "\tRome -> lit_31283971 [label=hasName]\n",
      "\tSpain -> Country [label=type]\n",
      "\tGermany -> EuropeanCountry [label=type]\n",
      "\tNetherlands -> Amsterdam [label=hasCapital]\n",
      "\tItaly -> Rome [label=hasCapital]\n",
      "\tParis -> Capital [label=type]\n",
      "\tNetherlands -> Belgium [label=neighbours]\n",
      "\tMadrid\n",
      "\tlit_15576347 [label=Madrid shape=plaintext]\n",
      "\tMadrid -> lit_15576347 [label=hasName]\n",
      "\tAmsterdam -> Capital [label=type]\n",
      "\thasCapital -> Capital [label=range]\n",
      "\tMadrid -> Capital [label=type]\n",
      "\tSpain -> Madrid [label=hasCapital]\n",
      "\tItaly -> France [label=neighbours]\n",
      "\tSpain\n",
      "\tlit_25899845 [label=Spain shape=plaintext]\n",
      "\tSpain -> lit_25899845 [label=hasName]\n",
      "\tFrance\n",
      "\tlit_62158015 [label=France shape=plaintext]\n",
      "\tFrance -> lit_62158015 [label=hasName]\n",
      "\tRome -> Capital [label=type]\n",
      "\tCapital -> City [label=subClassOf]\n",
      "\tNetherlands -> Country [label=type]\n",
      "\tSpain -> France [label=neighbours]\n",
      "\tFrance -> Paris [label=hasCapital]\n",
      "\tBelgium -> Country [label=type]\n",
      "}\n",
      "\n"
     ]
    }
   ],
   "source": [
    "print(dot.source)\n",
    "\n",
    "#[Didnt work so I put it in comment --> display.display_svg(dot)  # paste the source at www.webgraphviz.com if this does not produce anything "
   ]
  },
  {
   "cell_type": "markdown",
   "metadata": {},
   "source": [
    "### - Task 3b: (10 Points) From RDF to .dot with \"semantic information\""
   ]
  },
  {
   "cell_type": "markdown",
   "metadata": {},
   "source": [
    "There is a conceptual distinction between properties, instances and classes (sets of instances). A simple way of checking is the following\n",
    "\n",
    "1. in a triple (s a o), with predicate a (which is a special abbreviation for the predicate rdf:type), the s is an Instance, and o is a Class. \n",
    "2. in a triple (s rdfs:subClassOf o) both s and o are Classes. \n",
    "3. in a triple (p rdfs:domain o) p is a Property and o is a Class. \n",
    "4. in a triple (p rdfs:range o)  p is a Property and o is a Class. \n",
    "\n",
    "Update the .dot representation for an RDF graph that:\n",
    "\n",
    "- renders all predicates that are defined in the RDF namespace as dotted lines,\n",
    "- renders all classes as rectangles,\n",
    "- renders all literals as plain text (no enclosure), and\n",
    "- renders all instances with the color blue. \n",
    "\n",
    "Check how your graph looks once finished. Hint: you can use the `color`, `shape` and `style` attributes in the node and edge function (see the documentation)."
   ]
  },
  {
   "cell_type": "code",
   "execution_count": 20,
   "metadata": {},
   "outputs": [
    {
     "name": "stdout",
     "output_type": "stream",
     "text": [
      "strict digraph {\n",
      "\tgraph [dpi=50]\n",
      "\tParis\n",
      "\tlit_40346647 [label=Paris shape=plaintext]\n",
      "\tParis -> lit_40346647 [label=hasName]\n",
      "\tcontainsCity -> City [label=range]\n",
      "\tItaly -> Country [label=type]\n",
      "\thasCapital -> containsCity [label=subPropertyOf]\n",
      "\tNetherlands\n",
      "\tlit_16578088 [label=\"The Netherlands\" shape=plaintext]\n",
      "\tNetherlands -> lit_16578088 [label=hasName]\n",
      "\tFrance -> Country [label=type]\n",
      "\tEuropeanCountry -> Country [label=subClassOf]\n",
      "\tItaly\n",
      "\tlit_42111142 [label=Italy shape=plaintext]\n",
      "\tItaly -> lit_42111142 [label=hasName]\n",
      "\tcontainsCity -> Country [label=domain]\n",
      "\tRome\n",
      "\tlit_31283971 [label=Rome shape=plaintext]\n",
      "\tRome -> lit_31283971 [label=hasName]\n",
      "\tSpain -> Country [label=type]\n",
      "\tGermany -> EuropeanCountry [label=type]\n",
      "\tNetherlands -> Amsterdam [label=hasCapital]\n",
      "\tItaly -> Rome [label=hasCapital]\n",
      "\tParis -> Capital [label=type]\n",
      "\tNetherlands -> Belgium [label=neighbours]\n",
      "\tMadrid\n",
      "\tlit_15576347 [label=Madrid shape=plaintext]\n",
      "\tMadrid -> lit_15576347 [label=hasName]\n",
      "\tAmsterdam -> Capital [label=type]\n",
      "\thasCapital -> Capital [label=range]\n",
      "\tMadrid -> Capital [label=type]\n",
      "\tSpain -> Madrid [label=hasCapital]\n",
      "\tItaly -> France [label=neighbours]\n",
      "\tSpain\n",
      "\tlit_25899845 [label=Spain shape=plaintext]\n",
      "\tSpain -> lit_25899845 [label=hasName]\n",
      "\tFrance\n",
      "\tlit_62158015 [label=France shape=plaintext]\n",
      "\tFrance -> lit_62158015 [label=hasName]\n",
      "\tRome -> Capital [label=type]\n",
      "\tCapital -> City [label=subClassOf]\n",
      "\tNetherlands -> Country [label=type]\n",
      "\tSpain -> France [label=neighbours]\n",
      "\tFrance -> Paris [label=hasCapital]\n",
      "\tBelgium -> Country [label=type]\n",
      "\tParis [shape=plaintext]\n",
      "\tBelgium -> Paris [label=type]\n",
      "\tBelgium -> Paris [label=type]\n",
      "\tCountry [shape=box]\n",
      "\tBelgium -> Country [label=type style=dotted]\n",
      "\tBelgium -> Country [label=type]\n",
      "\t\"The Netherlands\" [shape=plaintext]\n",
      "\tBelgium -> \"The Netherlands\" [label=type]\n",
      "\tCountry [shape=box]\n",
      "\tBelgium -> Country [label=type style=dotted]\n",
      "\tBelgium [shape=box]\n",
      "\tCountry [shape=box]\n",
      "\tBelgium -> Country [label=type style=dotted]\n",
      "\tItaly [shape=plaintext]\n",
      "\tBelgium -> Italy [label=type]\n",
      "\tBelgium -> Italy [label=type]\n",
      "\tRome [shape=plaintext]\n",
      "\tBelgium -> Rome [label=type]\n",
      "\tCountry [shape=box]\n",
      "\tBelgium -> Country [label=type style=dotted]\n",
      "\tEuropeanCountry [shape=box]\n",
      "\tBelgium -> EuropeanCountry [label=type style=dotted]\n",
      "\tBelgium -> EuropeanCountry [label=type]\n",
      "\tBelgium -> EuropeanCountry [label=type]\n",
      "\tCapital [shape=box]\n",
      "\tBelgium -> Capital [label=type style=dotted]\n",
      "\tBelgium -> Capital [label=type]\n",
      "\tMadrid [shape=plaintext]\n",
      "\tBelgium -> Madrid [label=type]\n",
      "\tCapital [shape=box]\n",
      "\tBelgium -> Capital [label=type style=dotted]\n",
      "\tBelgium -> Capital [label=type]\n",
      "\tCapital [shape=box]\n",
      "\tBelgium -> Capital [label=type style=dotted]\n",
      "\tBelgium -> Capital [label=type]\n",
      "\tBelgium -> Capital [label=type]\n",
      "\tSpain [shape=plaintext]\n",
      "\tBelgium -> Spain [label=type]\n",
      "\tFrance [shape=plaintext]\n",
      "\tBelgium -> France [label=type]\n",
      "\tCapital [shape=box]\n",
      "\tBelgium -> Capital [label=type style=dotted]\n",
      "\tBelgium [shape=box]\n",
      "\tCity [shape=box]\n",
      "\tBelgium -> City [label=type style=dotted]\n",
      "\tCountry [shape=box]\n",
      "\tBelgium -> Country [label=type style=dotted]\n",
      "\tBelgium -> Country [label=type]\n",
      "\tBelgium -> Country [label=type]\n",
      "\tCountry [shape=box]\n",
      "\tBelgium -> Country [label=type style=dotted]\n",
      "}\n",
      "\n"
     ]
    }
   ],
   "source": [
    "for s, p, o in g:\n",
    "\n",
    "    if isinstance(o, Literal):                     # literals als platte tekst\n",
    "        o_label = strip(o)\n",
    "        dot.node(o_label, shape=\"plaintext\")\n",
    "        dot.edge(s_label, o_label, label=p_label)\n",
    "\n",
    "    elif p == rdfs.subClassOf:                     # Class ⊑ Class (beide box) + gestippelde rand\n",
    "        o_label = strip(o)\n",
    "        dot.node(s_label, shape=\"box\")\n",
    "        dot.node(o_label, shape=\"box\")\n",
    "        dot.edge(s_label, o_label, label=p_label, style=\"dotted\")\n",
    "\n",
    "    elif p == rdf.type:                            # instance a Class (Class in box) + gestippelde rand\n",
    "        o_label = strip(o)\n",
    "        dot.node(o_label, shape=\"box\")\n",
    "        dot.edge(s_label, o_label, label=p_label, style=\"dotted\")\n",
    "\n",
    "    else:                                          # overige triples normaal\n",
    "        o_lbl = strip(o)\n",
    "        dot.edge(s_label, o_label, label=p_label)\n",
    "\n",
    "print(dot.source)"
   ]
  },
  {
   "cell_type": "markdown",
   "metadata": {},
   "source": [
    "### - Task 4: (10 Points) Deriving implicit knowledge (a bit of schema)\n",
    "\n",
    "We will look into Schema information in the latter modules, but let us try already to find some implicit information in a first bit of inferencing: whenever there are two statements (s rdf:type o) and (o rdfs:subClassOf o2) we can derive (and later prove) that (s rdf:type o2). \n",
    "\n",
    "Write a procedure that adds all implied triples to our knowledge graph, and which prints each implied triple."
   ]
  },
  {
   "cell_type": "code",
   "execution_count": 21,
   "metadata": {},
   "outputs": [
    {
     "name": "stdout",
     "output_type": "stream",
     "text": [
      "(rdflib.term.URIRef('http://example.com/kad/Amsterdam'), rdflib.term.URIRef('http://www.w3.org/1999/02/22-rdf-syntax-ns#type'), rdflib.term.URIRef('http://example.com/kad/City'))\n",
      "(rdflib.term.URIRef('http://example.com/kad/Paris'), rdflib.term.URIRef('http://www.w3.org/1999/02/22-rdf-syntax-ns#type'), rdflib.term.URIRef('http://example.com/kad/City'))\n",
      "(rdflib.term.URIRef('http://example.com/kad/Madrid'), rdflib.term.URIRef('http://www.w3.org/1999/02/22-rdf-syntax-ns#type'), rdflib.term.URIRef('http://example.com/kad/City'))\n",
      "(rdflib.term.URIRef('http://example.com/kad/Rome'), rdflib.term.URIRef('http://www.w3.org/1999/02/22-rdf-syntax-ns#type'), rdflib.term.URIRef('http://example.com/kad/City'))\n",
      "(rdflib.term.URIRef('http://example.com/kad/Germany'), rdflib.term.URIRef('http://www.w3.org/1999/02/22-rdf-syntax-ns#type'), rdflib.term.URIRef('http://example.com/kad/Country'))\n"
     ]
    }
   ],
   "source": [
    "for s, _, o in g.triples((None, rdf.type, None)):\n",
    "    for _, _, o2 in g.triples((o, rdfs.subClassOf, None)):\n",
    "        t = (s, rdf.type, o2)\n",
    "        if t not in g:\n",
    "            g.add(t)\n",
    "            print(t)"
   ]
  },
  {
   "cell_type": "markdown",
   "metadata": {},
   "source": [
    "# C. Tasks related to local copies of external RDF Datasets using SPARQL"
   ]
  },
  {
   "cell_type": "markdown",
   "metadata": {},
   "source": [
    "Until now, we have manipulated local knowledge graphs, but as we claimed in the lectures, the advantage of knowledge graphs is that they can easily be linked with other datasets on the Web. \n",
    "\n",
    "In the remaining 3 tasks, we will manipulate data from the Web, and ask complex queries over this web data. \n",
    "\n",
    "In the first task, we will access web data, make a local copy of it, and then query it. In the other two tasks, we will query live data directly from web Knowledge Graphs (in this case, the SPARQL endpoint of DBPedia). "
   ]
  },
  {
   "cell_type": "markdown",
   "metadata": {},
   "source": [
    "### - Task 5: (10 Points) Show and manipulate data about RDF resources on the Web "
   ]
  },
  {
   "cell_type": "markdown",
   "metadata": {},
   "source": [
    "With rdflib we can easily load a local graph, but we can just as well retrieve a graph from the Web. Here, we will do so using the *requests* library, which allows us to fire a request to any server and/or SPARQL endpoint and to capture the response. The following snippet does so for the resource Netherlands from Dbpedia, by using the 'DESCRIBE' keyword to give us all triples about The Netherlands, and then loads it in a RDFlib Graph object. Note that, in the next assignment, we will learn a more high-level approach that hides most of the raw request details.\n",
    "\n",
    "Should, for some external reason, the code below fail to retrieve the graph from DBpedia, then you can manually load the turtle file `dbpedia_AmsterdamBelgium.ttl` which is located in this directory and which contains the same triples. Only do this as a last resort!"
   ]
  },
  {
   "cell_type": "code",
   "execution_count": 23,
   "metadata": {},
   "outputs": [
    {
     "name": "stdout",
     "output_type": "stream",
     "text": [
      "Requirement already satisfied: requests in /usr/local/Cellar/jupyterlab/4.4.7/libexec/lib/python3.13/site-packages (2.32.5)\n",
      "Requirement already satisfied: charset_normalizer<4,>=2 in /usr/local/Cellar/jupyterlab/4.4.7/libexec/lib/python3.13/site-packages (from requests) (3.4.3)\n",
      "Requirement already satisfied: idna<4,>=2.5 in /usr/local/Cellar/jupyterlab/4.4.7/libexec/lib/python3.13/site-packages (from requests) (3.10)\n",
      "Requirement already satisfied: urllib3<3,>=1.21.1 in /usr/local/Cellar/jupyterlab/4.4.7/libexec/lib/python3.13/site-packages (from requests) (2.5.0)\n",
      "Requirement already satisfied: certifi>=2017.4.17 in /usr/local/opt/certifi/lib/python3.13/site-packages (from requests) (2025.8.3)\n",
      "Note: you may need to restart the kernel to use updated packages.\n"
     ]
    }
   ],
   "source": [
    "# install the library\n",
    "%pip install requests"
   ]
  },
  {
   "cell_type": "code",
   "execution_count": 30,
   "metadata": {},
   "outputs": [
    {
     "data": {
      "text/plain": [
       "<Graph identifier=N74642cf7dd044400a551673249cc261b (<class 'rdflib.graph.Graph'>)>"
      ]
     },
     "execution_count": 30,
     "metadata": {},
     "output_type": "execute_result"
    }
   ],
   "source": [
    "import requests\n",
    "\n",
    "endpoint = \"https://dbpedia.org/sparql\"\n",
    "query = 'DESCRIBE <http://dbpedia.org/resource/Netherlands>'\n",
    "\n",
    "payload = {'query':query, 'format':'text/turtle'}\n",
    "response = requests.post(endpoint, data = payload)\n",
    "\n",
    "g = Graph()\n",
    "g.parse(data=response.text, format='ttl')"
   ]
  },
  {
   "cell_type": "markdown",
   "metadata": {},
   "source": [
    "Now do the same for Belgium"
   ]
  },
  {
   "cell_type": "code",
   "execution_count": 31,
   "metadata": {},
   "outputs": [
    {
     "data": {
      "text/plain": [
       "<Graph identifier=N74642cf7dd044400a551673249cc261b (<class 'rdflib.graph.Graph'>)>"
      ]
     },
     "execution_count": 31,
     "metadata": {},
     "output_type": "execute_result"
    }
   ],
   "source": [
    "query = 'DESCRIBE <http://dbpedia.org/resource/Belgium>'\n",
    "\n",
    "payload = {'query': query, 'format':'text/turtle'}\n",
    "response = requests.post(endpoint, data = payload)\n",
    "\n",
    "g.parse(data=response.text, format='ttl')   # merging the graphs\n",
    "\n",
    "\n",
    "payload = {'query':query, 'format':'text/turtle'}\n",
    "response = requests.post(endpoint, data = payload)\n",
    "\n",
    "g.parse(data=response.text, format='ttl')  # calling parse again merges the graphs"
   ]
  },
  {
   "cell_type": "markdown",
   "metadata": {},
   "source": [
    "Let us start by showing diverse bits of information w.r.t  The Netherlands and Belgium in DBPedia. It is very similar to task 1, but now with Web Data. \n",
    "\n",
    "First, query the graph g (now containing the DBPedia information about both countries) and check which motor ways cross both countries."
   ]
  },
  {
   "cell_type": "code",
   "execution_count": 32,
   "metadata": {},
   "outputs": [],
   "source": [
    "qres = g.query(\n",
    "   \"\"\"\n",
    "    PREFIX dbr: <http://dbpedia.org/resource/>\n",
    "    PREFIX dbo: <http://dbpedia.org/ontology/>\n",
    "    SELECT ?s\n",
    "        WHERE {\n",
    "            ?s a dbo:Road ;\n",
    "               dbo:county dbr:Netherlands ;\n",
    "               dbo:county dbr:Belgium .\n",
    "        }\n",
    "        LIMIT 10\n",
    "       \"\"\")\n",
    "for row in qres:\n",
    "    print(\"%s\" % row)"
   ]
  },
  {
   "cell_type": "markdown",
   "metadata": {},
   "source": [
    "Write a query to check whether you can find someone who was born in The Netherlands and died in Belgium? You need to look at the data to know which property you should check for. \n",
    "\n",
    "To get an intuition of what is in the knowledge graph you might want to look at the human readable rendering on : http://dbpedia.org/resource/Netherlands"
   ]
  },
  {
   "cell_type": "code",
   "execution_count": 33,
   "metadata": {
    "scrolled": true
   },
   "outputs": [],
   "source": [
    "# Your code here\n",
    "qres = g.query(\n",
    "    \"\"\"\n",
    "    PREFIX dbr: <http://dbpedia.org/resource/>\n",
    "    PREFIX dbo: <http://dbpedia.org/ontology/>\n",
    "    SELECT ?s\n",
    "        WHERE {\n",
    "            ?s a dbo:River ;\n",
    "                dbo:country dbr:Netherlands ;\n",
    "                dbo:country dbr:Belgium .\n",
    "        }\n",
    "        LIMIT 10\n",
    "        \"\"\")\n",
    "for row in qres:\n",
    "    print(\"%s\" % row)\n"
   ]
  },
  {
   "cell_type": "markdown",
   "metadata": {
    "editable": true,
    "slideshow": {
     "slide_type": ""
    },
    "tags": []
   },
   "source": [
    "### - Task 6: (20 Points) Ask SPARQL against live data using Yasgui\n",
    "\n",
    "Yasgui (https://yasgui.triply.cc) is a nice graphical interface for asking queries.\n",
    "\n",
    "Run a new query against http://dbpedia.org/sparql that does the following:\n",
    "\n",
    "- Find all languages spoken in countries that are not official languages of that country.\n",
    "- The query should return two colums: the country, and the number of languages.\n",
    "- Order the countries by the number of unofficial languages, from high to low.\n",
    "\n",
    "Note that\n",
    "- Countries are assumed to be of type `dbo:Country`\n",
    "- Languages are assumed to be of type `dbo:Language` (and can be linked by many different predicates)\n",
    "- Official languages are linked using predicate `dbo:officialLanguage`\n",
    "- Not all countries have an official language (in which case we return all linked languages)\n",
    "\n",
    "Hint: there is more than one possible solution. See https://www.w3.org/TR/sparql11-query/ for documentation on SPARQL."
   ]
  },
  {
   "cell_type": "code",
   "execution_count": 36,
   "metadata": {},
   "outputs": [
    {
     "data": {
      "text/plain": [
       "'\\nPREFIX dbr: <http://dbpedia.org/resource/>\\nPREFIX dbo: <http://dbpedia.org/ontology/>\\n\\nSELECT ?country (COUNT(DISTINCT ?lang) AS ?numUnofficial)\\nWHERE {\\n  ?country a dbo:Country .\\n  ?country ?p ?lang .\\n  ?lang a dbo:Language .\\n\\n  FILTER NOT EXISTS { ?country dbo:officialLanguage ?lang }\\n}\\nGROUP BY ?country\\nORDER BY DESC(?numUnofficial)\\n'"
      ]
     },
     "execution_count": 36,
     "metadata": {},
     "output_type": "execute_result"
    }
   ],
   "source": [
    "'''\n",
    "PREFIX dbr: <http://dbpedia.org/resource/>\n",
    "PREFIX dbo: <http://dbpedia.org/ontology/>\n",
    "\n",
    "SELECT ?country (COUNT(DISTINCT ?lang) AS ?numUnofficial)\n",
    "WHERE {\n",
    "  ?country a dbo:Country .\n",
    "  ?country ?p ?lang .\n",
    "  ?lang a dbo:Language .\n",
    "\n",
    "  FILTER NOT EXISTS { ?country dbo:officialLanguage ?lang }\n",
    "}\n",
    "GROUP BY ?country\n",
    "ORDER BY DESC(?numUnofficial)\n",
    "'''"
   ]
  }
 ],
 "metadata": {
  "kernelspec": {
   "display_name": "Python 3 (ipykernel)",
   "language": "python",
   "name": "python3"
  },
  "language_info": {
   "codemirror_mode": {
    "name": "ipython",
    "version": 3
   },
   "file_extension": ".py",
   "mimetype": "text/x-python",
   "name": "python",
   "nbconvert_exporter": "python",
   "pygments_lexer": "ipython3",
   "version": "3.13.7"
  }
 },
 "nbformat": 4,
 "nbformat_minor": 4
}
