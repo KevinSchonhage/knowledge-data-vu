{
 "cells": [
  {
   "cell_type": "markdown",
   "metadata": {},
   "source": [
    "# Knowledge and Data: Practical Assignment 3 \n",
    "## RDF Data, RDFS knowledge and inferencing "
   ]
  },
  {
   "cell_type": "markdown",
   "metadata": {},
   "source": [
    "YOUR NAME: Kevin Schönhage\n",
    "\n",
    "YOUR VUNetID: OMN496\n",
    "\n",
    "*(If you do not provide your name and VUNetID we will not accept your submission).* "
   ]
  },
  {
   "cell_type": "markdown",
   "metadata": {},
   "source": [
    "### Learning objectives\n",
    "\n",
    "At the end of this exercise you should be able to:\n",
    "\n",
    "1. Access local an external data via SPARQL both from within a python programming environment and stand-alone with a GUI, such as [YASGUI](https://yasgui.triply.cc/), and this way integrate data from different sources  \n",
    "2. Model your own first knowledge base, in this case an RDF Schema knowledge graph\n",
    "3. Implement inference rules "
   ]
  },
  {
   "cell_type": "markdown",
   "metadata": {},
   "source": [
    "Follow this Notebook step-by-step. \n",
    "\n",
    "Of course, you can do the exercises in any Programming Editor of your liking. \n",
    "But you do not have to. Feel free to simply write code in the Notebook. When \n",
    "everythink is filled in and works, safe the Notebook and submit it \n",
    "as a Jupyter Notebook, i.e. with an ipynb extension. Please use as name of the \n",
    "Notebook your studentID+Assignment3.ipynb.  \n",
    "\n",
    "\n",
    "We will not evaluate the programming style of your solutions. Yet we do look whether your solutions suggests an understanding, and whether they yield the correct output.\n",
    "\n",
    "Note that all notebooks will automatically be checked for plagiarism: while similar answers can be expected, it is not allowed to directly copy the solutions from fellow students or TAs, or from the examples discussed during the lectures. Similarly, sharing your solutions with your peers is not allowed.\n",
    "\n",
    "**IMPORTANT: Submit this notebook after finishing the assignment. It is not necessary to submit the created turtle files**"
   ]
  },
  {
   "cell_type": "markdown",
   "metadata": {},
   "source": [
    "Before you start, you need to:\n",
    "\n",
    "- **Install the *rdflib* Python package:** *pip install rdflib* (should already be installed from the previous assignment)\n",
    "- **Install the *SPARQLWrapper* Python package:** *pip install SPARQLWrapper*\n",
    "- **Install the free edition of the GraphDB Triplestore:** please follow this short [GraphDB tutorial](https://github.com/ucds-vu/knowledge-data-vu/blob/master/Tutorials/Preliminaries/tutorial-GraphDB.md). \n",
    "\n",
    "Then, add the file example-from-slides.ttl to a newly created database, say called assignment-3. \n",
    "\n",
    "**Note that you should have an active internet connection to run the code in this notebook. If, for some external reason (ie internet and/or system issues), you cannot access the SPARQL endpoint, then report this to a TA as soon as possible!**"
   ]
  },
  {
   "cell_type": "code",
   "execution_count": 18,
   "metadata": {},
   "outputs": [
    {
     "name": "stdout",
     "output_type": "stream",
     "text": [
      "Requirement already satisfied: SPARQLWrapper in /Users/kevin/.pyenv/versions/3.8.17/lib/python3.8/site-packages (2.0.0)\n",
      "Requirement already satisfied: rdflib>=6.1.1 in /Users/kevin/.pyenv/versions/3.8.17/lib/python3.8/site-packages (from SPARQLWrapper) (7.1.4)\n",
      "Requirement already satisfied: pyparsing<4,>=2.1.0 in /Users/kevin/.pyenv/versions/3.8.17/lib/python3.8/site-packages (from rdflib>=6.1.1->SPARQLWrapper) (3.1.4)\n",
      "Requirement already satisfied: isodate<1.0.0,>=0.7.2 in /Users/kevin/.pyenv/versions/3.8.17/lib/python3.8/site-packages (from rdflib>=6.1.1->SPARQLWrapper) (0.7.2)\n",
      "\n",
      "\u001b[1m[\u001b[0m\u001b[34;49mnotice\u001b[0m\u001b[1;39;49m]\u001b[0m\u001b[39;49m A new release of pip is available: \u001b[0m\u001b[31;49m23.0.1\u001b[0m\u001b[39;49m -> \u001b[0m\u001b[32;49m25.0.1\u001b[0m\n",
      "\u001b[1m[\u001b[0m\u001b[34;49mnotice\u001b[0m\u001b[1;39;49m]\u001b[0m\u001b[39;49m To update, run: \u001b[0m\u001b[32;49mpip install --upgrade pip\u001b[0m\n",
      "Note: you may need to restart the kernel to use updated packages.\n"
     ]
    }
   ],
   "source": [
    "# install library\n",
    "%pip install SPARQLWrapper"
   ]
  },
  {
   "cell_type": "markdown",
   "metadata": {},
   "source": [
    "## Task 1: (35 points) Integrate Local and External Data"
   ]
  },
  {
   "cell_type": "markdown",
   "metadata": {},
   "source": [
    "You can integrate SPARQL queries into your Python code by using the *RDFLib* and *SPARQLWrapper* libraries. \n",
    "\n",
    "The following code accesses the DBPedia knowledge graph using its SPARQL endpoint, and returns the result of the SPARQL query requesting all the labels asserted to Amsterdam (test it!)  "
   ]
  },
  {
   "cell_type": "code",
   "execution_count": 19,
   "metadata": {},
   "outputs": [
    {
     "name": "stdout",
     "output_type": "stream",
     "text": [
      "Amsterdam\n",
      "أمستردام\n",
      "Amsterdam\n",
      "Amsterdam\n",
      "Amsterdam\n",
      "Άμστερνταμ\n",
      "Amsterdamo\n",
      "Ámsterdam\n",
      "Amsterdam\n",
      "Amstardam\n",
      "Amsterdam\n",
      "Amsterdam\n",
      "Amsterdam\n",
      "암스테르담\n",
      "アムステルダム\n",
      "Amsterdam\n",
      "Amsterdam\n",
      "Амстердам\n",
      "Amesterdão\n",
      "Amsterdam\n",
      "Амстердам\n",
      "阿姆斯特丹\n"
     ]
    }
   ],
   "source": [
    "# This code only works if you are online.\n",
    "# If, for some reason, you cannot get this to work, then please contact a TA\n",
    "\n",
    "from rdflib import Graph, RDF, RDFS, Namespace, Literal, URIRef\n",
    "from SPARQLWrapper import SPARQLWrapper, JSON\n",
    "\n",
    "sparql = SPARQLWrapper(\"http://dbpedia.org/sparql\")\n",
    "sparql.setQuery(\"\"\"\n",
    "    PREFIX rdfs: <http://www.w3.org/2000/01/rdf-schema#>\n",
    "    SELECT ?cityName\n",
    "    WHERE { \n",
    "        <http://dbpedia.org/resource/Amsterdam> rdfs:label ?cityName \n",
    "    }\n",
    "\"\"\")\n",
    "sparql.setReturnFormat(JSON)\n",
    "results = sparql.query().convert()\n",
    "for result in results[\"results\"][\"bindings\"]:\n",
    "    print(result[\"cityName\"][\"value\"])  "
   ]
  },
  {
   "cell_type": "markdown",
   "metadata": {},
   "source": [
    "For your convenience, we already wrote the following functions that might be useful to complete this task. \n",
    "In addition, we have loaded and printed the 'example-from-slides.ttl' dataset."
   ]
  },
  {
   "cell_type": "code",
   "execution_count": 20,
   "metadata": {},
   "outputs": [
    {
     "name": "stdout",
     "output_type": "stream",
     "text": [
      "@prefix ex: <http://example.com/kad/> .\n",
      "@prefix rdfs: <http://www.w3.org/2000/01/rdf-schema#> .\n",
      "\n",
      "ex:Netherlands a ex:Country ;\n",
      "    ex:contains ex:Ijsselmeer ;\n",
      "    ex:containsCity ex:Rotterdam ;\n",
      "    ex:hasCapital ex:Amsterdam ;\n",
      "    ex:hasName \"The Netherlands\" ;\n",
      "    ex:neighbours ex:Belgium .\n",
      "\n",
      "ex:hasCapital rdfs:range ex:Capital ;\n",
      "    rdfs:subPropertyOf ex:containsCity .\n",
      "\n",
      "ex:neighbours rdfs:subPropertyOf ex:closeBy .\n",
      "\n",
      "ex:Amsterdam a ex:Capital ;\n",
      "    ex:closeBy ex:Germany .\n",
      "\n",
      "ex:Belgium a ex:Country .\n",
      "\n",
      "ex:EuropeanCountry rdfs:subClassOf ex:Country .\n",
      "\n",
      "ex:Germany a ex:EuropeanCountry ;\n",
      "    ex:hasCapital ex:Berlin .\n",
      "\n",
      "ex:closeBy rdfs:domain ex:Location ;\n",
      "    rdfs:range ex:Location .\n",
      "\n",
      "ex:containsCity rdfs:domain ex:Country ;\n",
      "    rdfs:range ex:City ;\n",
      "    rdfs:subPropertyOf ex:contains .\n",
      "\n",
      "ex:Capital rdfs:subClassOf ex:City .\n",
      "\n",
      "ex:City rdfs:subClassOf ex:Location .\n",
      "\n",
      "ex:Country rdfs:subClassOf ex:Location .\n",
      "\n",
      "\n"
     ]
    }
   ],
   "source": [
    "from rdflib import Graph, RDF, Namespace, Literal, URIRef\n",
    "from SPARQLWrapper import SPARQLWrapper, JSON\n",
    "\n",
    "\n",
    "# Loads the data from a certain file given as input in Turtle syntax into the Graph g  \n",
    "# -------------------------\n",
    "def load_graph(graph, filename):\n",
    "    with open(filename, 'r') as f:\n",
    "        graph.parse(f, format='turtle')\n",
    "        \n",
    "\n",
    "# Prints a certain graph given as input in Turtle syntax\n",
    "# if your output shows byte string (ie, b'...') you must add '.decode()' to the print statements:\n",
    "#    print(myGraph.serialize(format='turtle').decode())\n",
    "# -------------------------\n",
    "def serialize_graph(myGraph):\n",
    "     print(myGraph.serialize(format='turtle'))\n",
    "        \n",
    "\n",
    "# Saves the Graph g in Turtle syntax to a certain file given as input\n",
    "# -------------------------\n",
    "def save_graph(myGraph, filename):\n",
    "    with open(filename, 'w') as f:\n",
    "        myGraph.serialize(filename, format='turtle')\n",
    "        \n",
    "    \n",
    "# Changes the namespace of a certain URI given as input to a DBpedia URI \n",
    "# Example: transformToDBR(\"http://example.com/kad2020/Amsterdam\") returns \"http://dbpedia.org/resource/Amsterdam\"\n",
    "# -------------------------\n",
    "def transformToDBR(uri):\n",
    "    if isinstance(uri, Literal):\n",
    "        # changes the literal to uppercase so that the object with the same name refers to an object and not the string\n",
    "        return uri.upper()\n",
    "    components = g.namespace_manager.compute_qname(uri)\n",
    "    return \"http://dbpedia.org/resource/%s\"%(components[2])\n",
    "\n",
    "# -------------------------\n",
    "\n",
    "g = Graph()\n",
    "load_graph(g, 'example-from-slides.ttl')\n",
    "serialize_graph(g)\n",
    "\n",
    "\n",
    "# Don't forget to run this cell before continuing the task.\n"
   ]
  },
  {
   "cell_type": "markdown",
   "metadata": {},
   "source": [
    "### A: Write a SPARQL query that finds all the cities in the dataset\n",
    "\n",
    "As you cannot directly use class City, you will have to find those cities in the dataset (example-from-slides.ttl) using implicit information that can be deduced from the domain and ranges of the relations (e.g. things in a hasCapital relation are capitals and a capital is a city, etc.).\n",
    "\n",
    "Save all the cities returned from the SPARQL query into the empty set \"cities\". "
   ]
  },
  {
   "cell_type": "code",
   "execution_count": 21,
   "metadata": {},
   "outputs": [
    {
     "name": "stdout",
     "output_type": "stream",
     "text": [
      "http://example.com/kad/Berlin\n",
      "http://example.com/kad/Amsterdam\n"
     ]
    }
   ],
   "source": [
    "cities = set()\n",
    "\n",
    "qres = g.query(\"\"\"\n",
    "PREFIX ex:   <http://example.com/kad/>\n",
    "PREFIX rdf:  <http://www.w3.org/1999/02/22-rdf-syntax-ns#>\n",
    "PREFIX rdfs: <http://www.w3.org/2000/01/rdf-schema#>\n",
    "\n",
    "SELECT DISTINCT ?city WHERE {\n",
    "  { ?c ex:hasCapital ?city }                                  # capitals\n",
    "  UNION\n",
    "  { ?city rdf:type ex:Capital }                               # expliciet Capital\n",
    "  UNION\n",
    "  { ?city rdf:type ?t . ?t rdfs:subClassOf ex:City }          # type via subclass\n",
    "}\n",
    "\"\"\")\n",
    "\n",
    "for row in qres:\n",
    "    cities.add(row.city)\n",
    "\n",
    "for city in cities:\n",
    "    print(city)\n"
   ]
  },
  {
   "cell_type": "markdown",
   "metadata": {},
   "source": [
    "### B: For each city, find from DBpedia its longitude & latitude, and its number of inhabitants (if available)\n",
    "\n",
    "Don't forget to adapt the namespace of the cities in your dataset when querying DBpedia, using the above function *transformToDBR(uri)*. Also note that namespaces should never use the *https* protocol.\n",
    "\n",
    "The empty graph h should only contain the triples extracted from DBpedia, but added to the URIs with the 'ex' namespace. \n",
    "An example of a triple in h is the following triple: \n",
    "       \n",
    "       ex:Amsterdam dbo:populationTotal \"872680\"^^xsd:nonNegativeInteger ."
   ]
  },
  {
   "cell_type": "code",
   "execution_count": 22,
   "metadata": {},
   "outputs": [
    {
     "name": "stdout",
     "output_type": "stream",
     "text": [
      "@prefix ns1: <http://dbpedia.org/ontology/> .\n",
      "@prefix ns2: <http://www.w3.org/2003/01/geo/wgs84_pos#> .\n",
      "@prefix xsd: <http://www.w3.org/2001/XMLSchema#> .\n",
      "\n",
      "<http://example.com/kad/Amsterdam> ns1:populationTotal \"907976\"^^xsd:nonNegativeInteger ;\n",
      "    ns2:lat \"52.36666488647461\"^^xsd:float ;\n",
      "    ns2:long \"4.900000095367432\"^^xsd:float .\n",
      "\n",
      "<http://example.com/kad/Berlin> ns1:populationTotal \"3677472\"^^xsd:nonNegativeInteger ;\n",
      "    ns2:lat \"52.52000045776367\"^^xsd:float ;\n",
      "    ns2:long \"13.40499973297119\"^^xsd:float .\n",
      "\n",
      "\n"
     ]
    }
   ],
   "source": [
    "h   = Graph()\n",
    "dbo = Namespace(\"http://dbpedia.org/ontology/\")\n",
    "geo = Namespace(\"http://www.w3.org/2003/01/geo/wgs84_pos#\")\n",
    "ex  = Namespace(\"http://example.com/kad/\")\n",
    "\n",
    "def localname(u):\n",
    "    s = str(u)\n",
    "    return s.rsplit('#', 1)[-1].rsplit('/', 1)[-1]\n",
    "\n",
    "sparql = SPARQLWrapper(\"http://dbpedia.org/sparql\")\n",
    "\n",
    "for city in cities:\n",
    "    name    = localname(city)\n",
    "    dbp_uri = f\"http://dbpedia.org/resource/{name}\"\n",
    "\n",
    "    sparql.setQuery(f\"\"\"\n",
    "      PREFIX dbo: <http://dbpedia.org/ontology/>\n",
    "      PREFIX geo: <http://www.w3.org/2003/01/geo/wgs84_pos#>\n",
    "      SELECT ?pop ?lat ?long WHERE {{\n",
    "        OPTIONAL {{ <{dbp_uri}> dbo:populationTotal ?pop . }}\n",
    "        OPTIONAL {{ <{dbp_uri}> geo:lat  ?lat .  }}\n",
    "        OPTIONAL {{ <{dbp_uri}> geo:long ?long . }}\n",
    "      }} LIMIT 1\n",
    "    \"\"\")\n",
    "    sparql.setReturnFormat(JSON)\n",
    "    res = sparql.query().convert()\n",
    "\n",
    "    for b in res[\"results\"][\"bindings\"]:\n",
    "        if \"pop\" in b:\n",
    "            dt = URIRef(b[\"pop\"].get(\"datatype\")) if \"datatype\" in b[\"pop\"] else None\n",
    "            h.add((ex[name], dbo.populationTotal, Literal(b[\"pop\"][\"value\"], datatype=dt)))\n",
    "        if \"lat\" in b:\n",
    "            dt = URIRef(b[\"lat\"].get(\"datatype\")) if \"datatype\" in b[\"lat\"] else None\n",
    "            h.add((ex[name], geo.lat, Literal(b[\"lat\"][\"value\"], datatype=dt)))\n",
    "        if \"long\" in b:\n",
    "            dt = URIRef(b[\"long\"].get(\"datatype\")) if \"datatype\" in b[\"long\"] else None\n",
    "            h.add((ex[name], geo.long, Literal(b[\"long\"][\"value\"], datatype=dt)))\n",
    "\n",
    "serialize_graph(h)\n"
   ]
  },
  {
   "cell_type": "markdown",
   "metadata": {},
   "source": [
    "### C: Save your results\n",
    "\n",
    "- Merge the triples from example-from-slides.ttl with the information extracted from DBpedia. See the [documentation](https://rdflib.readthedocs.io/en/stable/merging.html) on how to accomplish this.\n",
    "- Save all these triples into a new file 'extended-example.ttl'. **It is not necessary to submit this file**\n",
    "- Print all triples in Turtle Syntax.\n"
   ]
  },
  {
   "cell_type": "code",
   "execution_count": 23,
   "metadata": {},
   "outputs": [
    {
     "name": "stdout",
     "output_type": "stream",
     "text": [
      "@prefix ns1: <http://dbpedia.org/ontology/> .\n",
      "@prefix ns2: <http://example.com/kad/> .\n",
      "@prefix ns3: <http://www.w3.org/2003/01/geo/wgs84_pos#> .\n",
      "@prefix rdfs: <http://www.w3.org/2000/01/rdf-schema#> .\n",
      "@prefix xsd: <http://www.w3.org/2001/XMLSchema#> .\n",
      "\n",
      "ns2:Netherlands a ns2:Country ;\n",
      "    ns2:contains ns2:Ijsselmeer ;\n",
      "    ns2:containsCity ns2:Rotterdam ;\n",
      "    ns2:hasCapital ns2:Amsterdam ;\n",
      "    ns2:hasName \"The Netherlands\" ;\n",
      "    ns2:neighbours ns2:Belgium .\n",
      "\n",
      "ns2:hasCapital rdfs:range ns2:Capital ;\n",
      "    rdfs:subPropertyOf ns2:containsCity .\n",
      "\n",
      "ns2:neighbours rdfs:subPropertyOf ns2:closeBy .\n",
      "\n",
      "ns2:Amsterdam a ns2:Capital ;\n",
      "    ns1:populationTotal \"907976\"^^xsd:nonNegativeInteger ;\n",
      "    ns2:closeBy ns2:Germany ;\n",
      "    ns3:lat \"52.36666488647461\"^^xsd:float ;\n",
      "    ns3:long \"4.900000095367432\"^^xsd:float .\n",
      "\n",
      "ns2:Belgium a ns2:Country .\n",
      "\n",
      "ns2:Berlin ns1:populationTotal \"3677472\"^^xsd:nonNegativeInteger ;\n",
      "    ns3:lat \"52.52000045776367\"^^xsd:float ;\n",
      "    ns3:long \"13.40499973297119\"^^xsd:float .\n",
      "\n",
      "ns2:EuropeanCountry rdfs:subClassOf ns2:Country .\n",
      "\n",
      "ns2:Germany a ns2:EuropeanCountry ;\n",
      "    ns2:hasCapital ns2:Berlin .\n",
      "\n",
      "ns2:closeBy rdfs:domain ns2:Location ;\n",
      "    rdfs:range ns2:Location .\n",
      "\n",
      "ns2:containsCity rdfs:domain ns2:Country ;\n",
      "    rdfs:range ns2:City ;\n",
      "    rdfs:subPropertyOf ns2:contains .\n",
      "\n",
      "ns2:Capital rdfs:subClassOf ns2:City .\n",
      "\n",
      "ns2:City rdfs:subClassOf ns2:Location .\n",
      "\n",
      "ns2:Country rdfs:subClassOf ns2:Location .\n",
      "\n",
      "\n"
     ]
    }
   ],
   "source": [
    "g_all = Graph()\n",
    "for t in g: g_all.add(t)\n",
    "for t in h: g_all.add(t)\n",
    "\n",
    "g_all.serialize(destination='extended-example.ttl', format='turtle')\n",
    "print(g_all.serialize(format='turtle').decode() if isinstance(g_all.serialize(format='turtle'), bytes) else g_all.serialize(format='turtle'))\n"
   ]
  },
  {
   "cell_type": "markdown",
   "metadata": {},
   "source": [
    "## Task 2: (25 points)  Implement Basic Inferencing Rules "
   ]
  },
  {
   "cell_type": "markdown",
   "metadata": {},
   "source": [
    "In the lecture we showed that the RDFS inference rules can be used to infer new knowledge. For example, infer class membership based on _rdfs:domain_ or infer relationships between subjects and objects based on _rdfs:subPropertyOf_. \n",
    "\n",
    "Create rules to inference class membership based on the RDF Schema language features \n",
    "*\tFor example: infer that an instance belongs to a class because of domain and range restrictions\n",
    "*\tFor example: infer that an instance belongs to a (super)class because it also belongs to a subclass\n",
    "\n",
    "We implemented the __rdfs2__ rule. You should implement the 5 following remaining rules:  \n",
    "\n",
    "*     (rdfs2) If G contains the triples (aaa rdfs:domain xxx.) and (uuu aaa yyy.)  then infer the triple (uuu rdf:type xxx.)\n",
    "*     (rdfs3) If G contains the triples (aaa rdfs:range xxx.) and (uuu aaa vvv.) then infer the triple (vvv rdf:type xxx .)\n",
    "*     (rdfs5) If G contains the triples (uuu rdfs:subPropertyOf vvv.) and (vvv rdfs:subPropertyOf xxx.) then infer the triple\n",
    "(uuu rdfs:subPropertyOf xxx.) \n",
    "*     (rdfs7) If G contains the triples (aaa rdfs:subPropertyOf bbb.) and (uuu aaa yyy.) then infer the triple (uuu bbb yyy) \n",
    "*     (rdfs9) If G contains the triples (uuu rdfs:subClassOf xxx.) and (vvv rdf:type uuu.) then infer the triple\n",
    " (vvv rdf:type xxx.)   -> this one was not mentioned in the lecture, but is a very important one. \n",
    "*     (rdfs11) If G contains the triples (uuu rdfs:subClassOf vvv.) and (vvv rdfs:subClassOf xxx.) then infer the triple\n",
    "(uuu rdfs:subClassOf xxx.)\n",
    "\n",
    "\n",
    "Run your rule reasoner on your knowledge graph. If you have implemented everything correctly, you should find exactly 17 inferences."
   ]
  },
  {
   "cell_type": "code",
   "execution_count": 51,
   "metadata": {},
   "outputs": [
    {
     "name": "stdout",
     "output_type": "stream",
     "text": [
      "(rdfs9) http://example.com/kad/EuropeanCountry rdfs:subClassOf http://example.com/kad/Location\n",
      "(rdfs5) http://example.com/kad/hasCapital rdfs:subPropertyOf http://example.com/kad/contains\n",
      "(rdfs3) http://example.com/kad/Amsterdam rdf:type http://example.com/kad/Capital\n",
      "(rdfs3) http://example.com/kad/Berlin rdf:type http://example.com/kad/Capital\n",
      "(rdfs7) http://example.com/kad/Netherlands http://example.com/kad/contains http://example.com/kad/Rotterdam\n",
      "(rdfs9) http://example.com/kad/Capital rdfs:subClassOf http://example.com/kad/Location\n",
      "(rdfs2) http://example.com/kad/Amsterdam rdf:type http://example.com/kad/Location\n",
      "(rdfs11) http://example.com/kad/Belgium rdf:type http://example.com/kad/Location\n",
      "(rdfs3) http://example.com/kad/Germany rdf:type http://example.com/kad/Location\n",
      "(rdfs11) http://example.com/kad/Netherlands rdf:type http://example.com/kad/Location\n",
      "(rdfs7) http://example.com/kad/Netherlands http://example.com/kad/containsCity http://example.com/kad/Amsterdam\n",
      "(rdfs2) http://example.com/kad/Netherlands rdf:type http://example.com/kad/Country\n",
      "(rdfs11) http://example.com/kad/Amsterdam rdf:type http://example.com/kad/City\n",
      "(rdfs7) http://example.com/kad/Netherlands http://example.com/kad/closeBy http://example.com/kad/Belgium\n",
      "(rdfs3) http://example.com/kad/Rotterdam rdf:type http://example.com/kad/City\n",
      "(rdfs11) http://example.com/kad/Germany rdf:type http://example.com/kad/Country\n",
      "(rdfs7) http://example.com/kad/Germany http://example.com/kad/containsCity http://example.com/kad/Berlin\n",
      "--------------------------------\n",
      "Number of inferred triples: 17\n",
      "--------------------------------\n"
     ]
    }
   ],
   "source": [
    "from rdflib import URIRef\n",
    "\n",
    "def myRDFSreasoner(myGraph):\n",
    "    inferredTriples = 0\n",
    "    RDFS = \"http://www.w3.org/2000/01/rdf-schema#\"\n",
    "    RDF  = \"http://www.w3.org/1999/02/22-rdf-syntax-ns#\"\n",
    "\n",
    "    for sbj, prd, obj in myGraph:\n",
    "\n",
    "        # --- rdfs2 ---\n",
    "        if prd.eq(URIRef(RDFS + \"domain\")):\n",
    "            generator = myGraph.subject_objects(URIRef(sbj))\n",
    "            for s, o in generator:\n",
    "                inferredTriples += 1\n",
    "                print(\"(rdfs2)\", s, \"rdf:type\", obj)\n",
    "\n",
    "        # --- rdfs3 ---\n",
    "        elif prd.eq(URIRef(RDFS + \"range\")):\n",
    "            generator = myGraph.subject_objects(URIRef(sbj))  # uuu sbj vvv\n",
    "            for s, o in generator:\n",
    "                inferredTriples += 1\n",
    "                print(\"(rdfs3)\", o, \"rdf:type\", obj)\n",
    "\n",
    "        # --- rdfs5 ---\n",
    "        elif prd.eq(URIRef(RDFS + \"subPropertyOf\")):\n",
    "            # (sbj ⊑ obj) & (obj ⊑ z)  =>  (sbj ⊑ z)\n",
    "            for _, _, z in myGraph.triples((obj, URIRef(RDFS + \"subPropertyOf\"), None)):\n",
    "                inferredTriples += 1\n",
    "                print(\"(rdfs5)\", sbj, \"rdfs:subPropertyOf\", z)\n",
    "\n",
    "        # --- rdfs7 ---\n",
    "        else:\n",
    "            # (sbj prd obj) & (prd ⊑ q)  =>  (sbj q obj)\n",
    "            for _, _, q in myGraph.triples((prd, URIRef(RDFS + \"subPropertyOf\"), None)):\n",
    "                inferredTriples += 1\n",
    "                print(\"(rdfs7)\", sbj, q, obj)\n",
    "\n",
    "        # --- rdfs9 ---\n",
    "        if prd.eq(URIRef(RDFS + \"subClassOf\")):\n",
    "            for _, _, z in myGraph.triples((obj, URIRef(RDFS + \"subClassOf\"), None)):\n",
    "                inferredTriples += 1\n",
    "                print(\"(rdfs9)\", sbj, \"rdfs:subClassOf\", z)\n",
    "\n",
    "        # --- rdfs11 ---\n",
    "        if prd.eq(URIRef(RDF + \"type\")):\n",
    "            for _, _, sup in myGraph.triples((obj, URIRef(RDFS + \"subClassOf\"), None)):\n",
    "                inferredTriples += 1\n",
    "                print(\"(rdfs11)\", sbj, \"rdf:type\", sup)\n",
    "\n",
    "    print(\"--------------------------------\")\n",
    "    print(\"Number of inferred triples:\", inferredTriples)\n",
    "    print(\"--------------------------------\")\n",
    "\n",
    "myRDFSreasoner(g)"
   ]
  },
  {
   "cell_type": "markdown",
   "metadata": {},
   "source": [
    "## Task 3: (20 points) Build your very own RDFS knowledge graph. \n"
   ]
  },
  {
   "cell_type": "markdown",
   "metadata": {},
   "source": [
    "Define a small RDF Schema vocabulary in Turtle. You can choose your own domain (e.g. movies, geography, sports), as long as it hasn't been used as an example during the lectures. The following rules must be respected:\n",
    "*\tThe schema should define at least 4 classes, 4 properties, and 4 instances.\n",
    "*   The properties should be used to relate the instances (i.e., object-type relations)\n",
    "*\tThe instances should be members of at least one of the 4 defined classes\n",
    "*\tAll resources should have an rdfs:label attribute in a suitable language.\n",
    "\n",
    "You should use (at least) the following language features of RDF and RDFS:\n",
    "* \trdf:type (or 'a')\n",
    "* \trdfs:subClassOf\n",
    "* \trdfs:subPropertyOf\n",
    "* \trdfs:domain and rdfs:range\n",
    "*\trdfs:label\n",
    "\n",
    "Be sure to define the 'rdf:' and 'rdfs:' namespace prefixes for RDF and RDF Schema in your file (perhaps have a look at http://prefix.cc)\n",
    "\n",
    "For creating your vocabulary you should add the axioms directly (programatically) to your Knowledge Graph as you did last week. \n",
    "\n",
    "Play around with the inference rules you have created in the previous task to make sure that you added some implicit knowledge, that becomes \"visible\" via inferencing (this will be useful for the next task). \n",
    "\n",
    "Finally:\n",
    "- Add the knowledge you created into the RDFlib graph datastructure *myRDFSgraph*, \n",
    "- Print *myRDFSgraph* in Turtle so that we can check your \"design\"\n",
    "- Save *myRDFSgraph* into a new file 'myRDFSgraph.ttl' (it is not necessary to submit this file)"
   ]
  },
  {
   "cell_type": "code",
   "execution_count": 56,
   "metadata": {},
   "outputs": [
    {
     "name": "stdout",
     "output_type": "stream",
     "text": [
      "(rdfs7) http://example.com/kad/Buddy http://example.com/kad/hasParent http://example.com/kad/Luna\n",
      "(rdfs5) http://example.com/kad/hasMother rdfs:subPropertyOf http://example.com/kad/relatedTo\n",
      "(rdfs2) http://example.com/kad/Max rdf:type http://example.com/kad/Animal\n",
      "(rdfs7) http://example.com/kad/Max http://example.com/kad/relatedTo http://example.com/kad/Luna\n",
      "(rdfs11) http://example.com/kad/Buddy rdf:type http://example.com/kad/Mammal\n",
      "(rdfs11) http://example.com/kad/Luna rdf:type http://example.com/kad/Animal\n",
      "(rdfs9) http://example.com/kad/Dog rdfs:subClassOf http://example.com/kad/Animal\n",
      "(rdfs3) http://example.com/kad/Luna rdf:type http://example.com/kad/Animal\n",
      "--------------------------------\n",
      "Number of inferred triples: 8\n",
      "--------------------------------\n"
     ]
    }
   ],
   "source": [
    "ttl = \"\"\"\n",
    "@prefix ex:   <http://example.com/kad/> .\n",
    "@prefix rdfs: <http://www.w3.org/2000/01/rdf-schema#> .\n",
    "@prefix rdf:  <http://www.w3.org/1999/02/22-rdf-syntax-ns#> .\n",
    "\n",
    "# Classes and subclass chain  (rdfs9 + rdfs11)\n",
    "ex:Animal  a rdfs:Class .\n",
    "ex:Mammal  a rdfs:Class ; rdfs:subClassOf ex:Animal .\n",
    "ex:Dog     a rdfs:Class ; rdfs:subClassOf ex:Mammal .\n",
    "\n",
    "# Properties with domain/range and subProperty chain  (rdfs2, rdfs3, rdfs5, rdfs7)\n",
    "ex:relatedTo  a rdf:Property .\n",
    "ex:hasParent  a rdf:Property ;\n",
    "              rdfs:subPropertyOf ex:relatedTo ;\n",
    "              rdfs:domain ex:Animal ;\n",
    "              rdfs:range  ex:Animal .\n",
    "ex:hasMother  a rdf:Property ;\n",
    "              rdfs:subPropertyOf ex:hasParent .\n",
    "\n",
    "# Instances (data)\n",
    "ex:Buddy  a ex:Dog ;\n",
    "          ex:hasMother ex:Luna .\n",
    "\n",
    "ex:Luna   a ex:Mammal .\n",
    "\n",
    "# extra instance om rdfs2 expliciet te zien\n",
    "ex:Max    ex:hasParent ex:Luna .\n",
    "\"\"\"\n",
    "\n",
    "g3 = Graph()\n",
    "g3.parse(data=ttl, format=\"turtle\")\n",
    "\n",
    "myRDFSreasoner(g3)\n"
   ]
  },
  {
   "cell_type": "markdown",
   "metadata": {},
   "source": [
    "## Task 4 (20 points) Compare local inferences with GraphDB results"
   ]
  },
  {
   "cell_type": "markdown",
   "metadata": {},
   "source": [
    "Upload *myRDFSgraph.ttl* to GraphDB (check [the GraphDB tutorial](https://github.com/ucds-vu/knowledge-data-vu/blob/master/Tutorials/Preliminaries/tutorial-GraphDB.md) before starting to work with GraphDB).\n",
    "\n",
    "Formulate two different SPARQL queries, and write a Python code that executes these queries over your GraphDB SPARQL endpoint (check example of Task 1).\n",
    "\n",
    "**Each SPARQL query should return a _different type_ of inferred knowledge** (at least one triple that was not explicitly asserted in the graph).\n",
    "\n",
    "Specify below next to your query (using a comment '# ...') which type of RDFS rule is the GraphDB reasoner using to infer this answer (rdfs2, rdfs3, rdfs5, rdfs7, rdfs9, rdfs11). "
   ]
  },
  {
   "cell_type": "code",
   "execution_count": null,
   "metadata": {},
   "outputs": [],
   "source": [
    "# Get your GraphDB repository URL (setup -> repositories -> repository url) and assign it to the variable 'myEndpoint' below. \n",
    "# It should be similar to this: \n",
    "\n",
    "myEndpoint = \"http://127.0.0.1:7200/repositories/KnowledgeAndData\"  # KnowledgeAndData is the name of the repository\n",
    "sparql = SPARQLWrapper(myEndpoint)"
   ]
  },
  {
   "cell_type": "code",
   "execution_count": null,
   "metadata": {},
   "outputs": [],
   "source": [
    "# Query 1 - Specify which RDFS rule are you testing: \n",
    "\n",
    "# Check example of Task 1 on how to query remote SPARQL endpoints\n",
    "\n",
    "sparql.setQuery(\"\"\"\n",
    "\n",
    "\"\"\")\n",
    "\n",
    "\n"
   ]
  },
  {
   "cell_type": "code",
   "execution_count": null,
   "metadata": {},
   "outputs": [],
   "source": [
    "# Query 2 - Specify which RDFS rule are you testing: \n",
    "\n",
    "# Check example of Task 1 on how to query remote SPARQL endpoints\n",
    "\n",
    "sparql.setQuery(\"\"\"\n",
    "\n",
    "\"\"\")\n",
    "\n"
   ]
  },
  {
   "cell_type": "markdown",
   "metadata": {},
   "source": [
    "## Submitting the assignment\n",
    "\n",
    "Please submit this notebook (.ipynb) once you're finished with the assignment. It is not necessary to submit the created turtle files."
   ]
  }
 ],
 "metadata": {
  "kernelspec": {
   "display_name": "Python 3 (ipykernel)",
   "language": "python",
   "name": "python3"
  },
  "language_info": {
   "codemirror_mode": {
    "name": "ipython",
    "version": 3
   },
   "file_extension": ".py",
   "mimetype": "text/x-python",
   "name": "python",
   "nbconvert_exporter": "python",
   "pygments_lexer": "ipython3",
   "version": "3.8.17"
  }
 },
 "nbformat": 4,
 "nbformat_minor": 4
}
